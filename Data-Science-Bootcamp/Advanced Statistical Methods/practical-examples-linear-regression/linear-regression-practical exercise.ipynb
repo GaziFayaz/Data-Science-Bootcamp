{
 "cells": [
  {
   "cell_type": "markdown",
   "metadata": {},
   "source": [
    "### Practical Example"
   ]
  },
  {
   "cell_type": "markdown",
   "metadata": {},
   "source": [
    "#### Importing the relevant libraries"
   ]
  },
  {
   "cell_type": "code",
   "execution_count": 138,
   "metadata": {},
   "outputs": [],
   "source": [
    "import numpy as np\n",
    "import pandas as pd\n",
    "import statsmodels.api as sm\n",
    "import matplotlib.pyplot as plt\n",
    "%matplotlib inline\n",
    "from sklearn.linear_model import LinearRegression\n",
    "import seaborn as sns\n",
    "sns.set()"
   ]
  },
  {
   "cell_type": "markdown",
   "metadata": {},
   "source": [
    "#### Loading the raw data"
   ]
  },
  {
   "cell_type": "code",
   "execution_count": 139,
   "metadata": {},
   "outputs": [
    {
     "data": {
      "text/html": [
       "<div>\n",
       "<style scoped>\n",
       "    .dataframe tbody tr th:only-of-type {\n",
       "        vertical-align: middle;\n",
       "    }\n",
       "\n",
       "    .dataframe tbody tr th {\n",
       "        vertical-align: top;\n",
       "    }\n",
       "\n",
       "    .dataframe thead th {\n",
       "        text-align: right;\n",
       "    }\n",
       "</style>\n",
       "<table border=\"1\" class=\"dataframe\">\n",
       "  <thead>\n",
       "    <tr style=\"text-align: right;\">\n",
       "      <th></th>\n",
       "      <th>Brand</th>\n",
       "      <th>Price</th>\n",
       "      <th>Body</th>\n",
       "      <th>Mileage</th>\n",
       "      <th>EngineV</th>\n",
       "      <th>Engine Type</th>\n",
       "      <th>Registration</th>\n",
       "      <th>Year</th>\n",
       "      <th>Model</th>\n",
       "    </tr>\n",
       "  </thead>\n",
       "  <tbody>\n",
       "    <tr>\n",
       "      <th>0</th>\n",
       "      <td>BMW</td>\n",
       "      <td>4200.00</td>\n",
       "      <td>sedan</td>\n",
       "      <td>277</td>\n",
       "      <td>2.00</td>\n",
       "      <td>Petrol</td>\n",
       "      <td>yes</td>\n",
       "      <td>1991</td>\n",
       "      <td>320</td>\n",
       "    </tr>\n",
       "    <tr>\n",
       "      <th>1</th>\n",
       "      <td>Mercedes-Benz</td>\n",
       "      <td>7900.00</td>\n",
       "      <td>van</td>\n",
       "      <td>427</td>\n",
       "      <td>2.90</td>\n",
       "      <td>Diesel</td>\n",
       "      <td>yes</td>\n",
       "      <td>1999</td>\n",
       "      <td>Sprinter 212</td>\n",
       "    </tr>\n",
       "    <tr>\n",
       "      <th>2</th>\n",
       "      <td>Mercedes-Benz</td>\n",
       "      <td>13300.00</td>\n",
       "      <td>sedan</td>\n",
       "      <td>358</td>\n",
       "      <td>5.00</td>\n",
       "      <td>Gas</td>\n",
       "      <td>yes</td>\n",
       "      <td>2003</td>\n",
       "      <td>S 500</td>\n",
       "    </tr>\n",
       "    <tr>\n",
       "      <th>3</th>\n",
       "      <td>Audi</td>\n",
       "      <td>23000.00</td>\n",
       "      <td>crossover</td>\n",
       "      <td>240</td>\n",
       "      <td>4.20</td>\n",
       "      <td>Petrol</td>\n",
       "      <td>yes</td>\n",
       "      <td>2007</td>\n",
       "      <td>Q7</td>\n",
       "    </tr>\n",
       "    <tr>\n",
       "      <th>4</th>\n",
       "      <td>Toyota</td>\n",
       "      <td>18300.00</td>\n",
       "      <td>crossover</td>\n",
       "      <td>120</td>\n",
       "      <td>2.00</td>\n",
       "      <td>Petrol</td>\n",
       "      <td>yes</td>\n",
       "      <td>2011</td>\n",
       "      <td>Rav 4</td>\n",
       "    </tr>\n",
       "  </tbody>\n",
       "</table>\n",
       "</div>"
      ],
      "text/plain": [
       "           Brand    Price       Body  Mileage  EngineV Engine Type  \\\n",
       "0            BMW  4200.00      sedan      277     2.00      Petrol   \n",
       "1  Mercedes-Benz  7900.00        van      427     2.90      Diesel   \n",
       "2  Mercedes-Benz 13300.00      sedan      358     5.00         Gas   \n",
       "3           Audi 23000.00  crossover      240     4.20      Petrol   \n",
       "4         Toyota 18300.00  crossover      120     2.00      Petrol   \n",
       "\n",
       "  Registration  Year         Model  \n",
       "0          yes  1991           320  \n",
       "1          yes  1999  Sprinter 212  \n",
       "2          yes  2003         S 500  \n",
       "3          yes  2007            Q7  \n",
       "4          yes  2011         Rav 4  "
      ]
     },
     "execution_count": 139,
     "metadata": {},
     "output_type": "execute_result"
    }
   ],
   "source": [
    "raw_data = pd.read_csv(\"./datasets/1.04. Real-life example.csv\")\n",
    "raw_data.head()"
   ]
  },
  {
   "cell_type": "markdown",
   "metadata": {},
   "source": [
    "#### Preprocessing"
   ]
  },
  {
   "cell_type": "markdown",
   "metadata": {},
   "source": [
    "##### Exploring the discriptive statistics of the variables"
   ]
  },
  {
   "cell_type": "code",
   "execution_count": 140,
   "metadata": {},
   "outputs": [
    {
     "data": {
      "text/html": [
       "<div>\n",
       "<style scoped>\n",
       "    .dataframe tbody tr th:only-of-type {\n",
       "        vertical-align: middle;\n",
       "    }\n",
       "\n",
       "    .dataframe tbody tr th {\n",
       "        vertical-align: top;\n",
       "    }\n",
       "\n",
       "    .dataframe thead th {\n",
       "        text-align: right;\n",
       "    }\n",
       "</style>\n",
       "<table border=\"1\" class=\"dataframe\">\n",
       "  <thead>\n",
       "    <tr style=\"text-align: right;\">\n",
       "      <th></th>\n",
       "      <th>Brand</th>\n",
       "      <th>Price</th>\n",
       "      <th>Body</th>\n",
       "      <th>Mileage</th>\n",
       "      <th>EngineV</th>\n",
       "      <th>Engine Type</th>\n",
       "      <th>Registration</th>\n",
       "      <th>Year</th>\n",
       "      <th>Model</th>\n",
       "    </tr>\n",
       "  </thead>\n",
       "  <tbody>\n",
       "    <tr>\n",
       "      <th>count</th>\n",
       "      <td>4345</td>\n",
       "      <td>4173.00</td>\n",
       "      <td>4345</td>\n",
       "      <td>4345.00</td>\n",
       "      <td>4195.00</td>\n",
       "      <td>4345</td>\n",
       "      <td>4345</td>\n",
       "      <td>4345.00</td>\n",
       "      <td>4345</td>\n",
       "    </tr>\n",
       "    <tr>\n",
       "      <th>unique</th>\n",
       "      <td>7</td>\n",
       "      <td>NaN</td>\n",
       "      <td>6</td>\n",
       "      <td>NaN</td>\n",
       "      <td>NaN</td>\n",
       "      <td>4</td>\n",
       "      <td>2</td>\n",
       "      <td>NaN</td>\n",
       "      <td>312</td>\n",
       "    </tr>\n",
       "    <tr>\n",
       "      <th>top</th>\n",
       "      <td>Volkswagen</td>\n",
       "      <td>NaN</td>\n",
       "      <td>sedan</td>\n",
       "      <td>NaN</td>\n",
       "      <td>NaN</td>\n",
       "      <td>Diesel</td>\n",
       "      <td>yes</td>\n",
       "      <td>NaN</td>\n",
       "      <td>E-Class</td>\n",
       "    </tr>\n",
       "    <tr>\n",
       "      <th>freq</th>\n",
       "      <td>936</td>\n",
       "      <td>NaN</td>\n",
       "      <td>1649</td>\n",
       "      <td>NaN</td>\n",
       "      <td>NaN</td>\n",
       "      <td>2019</td>\n",
       "      <td>3947</td>\n",
       "      <td>NaN</td>\n",
       "      <td>199</td>\n",
       "    </tr>\n",
       "    <tr>\n",
       "      <th>mean</th>\n",
       "      <td>NaN</td>\n",
       "      <td>19418.75</td>\n",
       "      <td>NaN</td>\n",
       "      <td>161.24</td>\n",
       "      <td>2.79</td>\n",
       "      <td>NaN</td>\n",
       "      <td>NaN</td>\n",
       "      <td>2006.55</td>\n",
       "      <td>NaN</td>\n",
       "    </tr>\n",
       "    <tr>\n",
       "      <th>std</th>\n",
       "      <td>NaN</td>\n",
       "      <td>25584.24</td>\n",
       "      <td>NaN</td>\n",
       "      <td>105.71</td>\n",
       "      <td>5.07</td>\n",
       "      <td>NaN</td>\n",
       "      <td>NaN</td>\n",
       "      <td>6.72</td>\n",
       "      <td>NaN</td>\n",
       "    </tr>\n",
       "    <tr>\n",
       "      <th>min</th>\n",
       "      <td>NaN</td>\n",
       "      <td>600.00</td>\n",
       "      <td>NaN</td>\n",
       "      <td>0.00</td>\n",
       "      <td>0.60</td>\n",
       "      <td>NaN</td>\n",
       "      <td>NaN</td>\n",
       "      <td>1969.00</td>\n",
       "      <td>NaN</td>\n",
       "    </tr>\n",
       "    <tr>\n",
       "      <th>25%</th>\n",
       "      <td>NaN</td>\n",
       "      <td>6999.00</td>\n",
       "      <td>NaN</td>\n",
       "      <td>86.00</td>\n",
       "      <td>1.80</td>\n",
       "      <td>NaN</td>\n",
       "      <td>NaN</td>\n",
       "      <td>2003.00</td>\n",
       "      <td>NaN</td>\n",
       "    </tr>\n",
       "    <tr>\n",
       "      <th>50%</th>\n",
       "      <td>NaN</td>\n",
       "      <td>11500.00</td>\n",
       "      <td>NaN</td>\n",
       "      <td>155.00</td>\n",
       "      <td>2.20</td>\n",
       "      <td>NaN</td>\n",
       "      <td>NaN</td>\n",
       "      <td>2008.00</td>\n",
       "      <td>NaN</td>\n",
       "    </tr>\n",
       "    <tr>\n",
       "      <th>75%</th>\n",
       "      <td>NaN</td>\n",
       "      <td>21700.00</td>\n",
       "      <td>NaN</td>\n",
       "      <td>230.00</td>\n",
       "      <td>3.00</td>\n",
       "      <td>NaN</td>\n",
       "      <td>NaN</td>\n",
       "      <td>2012.00</td>\n",
       "      <td>NaN</td>\n",
       "    </tr>\n",
       "    <tr>\n",
       "      <th>max</th>\n",
       "      <td>NaN</td>\n",
       "      <td>300000.00</td>\n",
       "      <td>NaN</td>\n",
       "      <td>980.00</td>\n",
       "      <td>99.99</td>\n",
       "      <td>NaN</td>\n",
       "      <td>NaN</td>\n",
       "      <td>2016.00</td>\n",
       "      <td>NaN</td>\n",
       "    </tr>\n",
       "  </tbody>\n",
       "</table>\n",
       "</div>"
      ],
      "text/plain": [
       "             Brand     Price   Body  Mileage  EngineV Engine Type  \\\n",
       "count         4345   4173.00   4345  4345.00  4195.00        4345   \n",
       "unique           7       NaN      6      NaN      NaN           4   \n",
       "top     Volkswagen       NaN  sedan      NaN      NaN      Diesel   \n",
       "freq           936       NaN   1649      NaN      NaN        2019   \n",
       "mean           NaN  19418.75    NaN   161.24     2.79         NaN   \n",
       "std            NaN  25584.24    NaN   105.71     5.07         NaN   \n",
       "min            NaN    600.00    NaN     0.00     0.60         NaN   \n",
       "25%            NaN   6999.00    NaN    86.00     1.80         NaN   \n",
       "50%            NaN  11500.00    NaN   155.00     2.20         NaN   \n",
       "75%            NaN  21700.00    NaN   230.00     3.00         NaN   \n",
       "max            NaN 300000.00    NaN   980.00    99.99         NaN   \n",
       "\n",
       "       Registration    Year    Model  \n",
       "count          4345 4345.00     4345  \n",
       "unique            2     NaN      312  \n",
       "top             yes     NaN  E-Class  \n",
       "freq           3947     NaN      199  \n",
       "mean            NaN 2006.55      NaN  \n",
       "std             NaN    6.72      NaN  \n",
       "min             NaN 1969.00      NaN  \n",
       "25%             NaN 2003.00      NaN  \n",
       "50%             NaN 2008.00      NaN  \n",
       "75%             NaN 2012.00      NaN  \n",
       "max             NaN 2016.00      NaN  "
      ]
     },
     "execution_count": 140,
     "metadata": {},
     "output_type": "execute_result"
    }
   ],
   "source": [
    "raw_data.describe(include=\"all\")"
   ]
  },
  {
   "cell_type": "markdown",
   "metadata": {},
   "source": [
    "#### Determining the variables of interest"
   ]
  },
  {
   "cell_type": "code",
   "execution_count": 141,
   "metadata": {},
   "outputs": [],
   "source": [
    "## data = raw_data.drop([\"Model\"], axis=1)\n",
    "## data.describe(include='all')"
   ]
  },
  {
   "cell_type": "markdown",
   "metadata": {},
   "source": [
    "#### Dealing with missing values"
   ]
  },
  {
   "cell_type": "code",
   "execution_count": 142,
   "metadata": {},
   "outputs": [
    {
     "data": {
      "text/plain": [
       "Brand             0\n",
       "Price           172\n",
       "Body              0\n",
       "Mileage           0\n",
       "EngineV         150\n",
       "Engine Type       0\n",
       "Registration      0\n",
       "Year              0\n",
       "Model             0\n",
       "dtype: int64"
      ]
     },
     "execution_count": 142,
     "metadata": {},
     "output_type": "execute_result"
    }
   ],
   "source": [
    "raw_data.isnull().sum()"
   ]
  },
  {
   "cell_type": "code",
   "execution_count": 143,
   "metadata": {},
   "outputs": [],
   "source": [
    "data_no_mv = raw_data.dropna(axis=0)"
   ]
  },
  {
   "cell_type": "code",
   "execution_count": 144,
   "metadata": {},
   "outputs": [
    {
     "data": {
      "text/html": [
       "<div>\n",
       "<style scoped>\n",
       "    .dataframe tbody tr th:only-of-type {\n",
       "        vertical-align: middle;\n",
       "    }\n",
       "\n",
       "    .dataframe tbody tr th {\n",
       "        vertical-align: top;\n",
       "    }\n",
       "\n",
       "    .dataframe thead th {\n",
       "        text-align: right;\n",
       "    }\n",
       "</style>\n",
       "<table border=\"1\" class=\"dataframe\">\n",
       "  <thead>\n",
       "    <tr style=\"text-align: right;\">\n",
       "      <th></th>\n",
       "      <th>Brand</th>\n",
       "      <th>Price</th>\n",
       "      <th>Body</th>\n",
       "      <th>Mileage</th>\n",
       "      <th>EngineV</th>\n",
       "      <th>Engine Type</th>\n",
       "      <th>Registration</th>\n",
       "      <th>Year</th>\n",
       "      <th>Model</th>\n",
       "    </tr>\n",
       "  </thead>\n",
       "  <tbody>\n",
       "    <tr>\n",
       "      <th>count</th>\n",
       "      <td>4025</td>\n",
       "      <td>4025.00</td>\n",
       "      <td>4025</td>\n",
       "      <td>4025.00</td>\n",
       "      <td>4025.00</td>\n",
       "      <td>4025</td>\n",
       "      <td>4025</td>\n",
       "      <td>4025.00</td>\n",
       "      <td>4025</td>\n",
       "    </tr>\n",
       "    <tr>\n",
       "      <th>unique</th>\n",
       "      <td>7</td>\n",
       "      <td>NaN</td>\n",
       "      <td>6</td>\n",
       "      <td>NaN</td>\n",
       "      <td>NaN</td>\n",
       "      <td>4</td>\n",
       "      <td>2</td>\n",
       "      <td>NaN</td>\n",
       "      <td>306</td>\n",
       "    </tr>\n",
       "    <tr>\n",
       "      <th>top</th>\n",
       "      <td>Volkswagen</td>\n",
       "      <td>NaN</td>\n",
       "      <td>sedan</td>\n",
       "      <td>NaN</td>\n",
       "      <td>NaN</td>\n",
       "      <td>Diesel</td>\n",
       "      <td>yes</td>\n",
       "      <td>NaN</td>\n",
       "      <td>E-Class</td>\n",
       "    </tr>\n",
       "    <tr>\n",
       "      <th>freq</th>\n",
       "      <td>880</td>\n",
       "      <td>NaN</td>\n",
       "      <td>1534</td>\n",
       "      <td>NaN</td>\n",
       "      <td>NaN</td>\n",
       "      <td>1861</td>\n",
       "      <td>3654</td>\n",
       "      <td>NaN</td>\n",
       "      <td>188</td>\n",
       "    </tr>\n",
       "    <tr>\n",
       "      <th>mean</th>\n",
       "      <td>NaN</td>\n",
       "      <td>19552.31</td>\n",
       "      <td>NaN</td>\n",
       "      <td>163.57</td>\n",
       "      <td>2.76</td>\n",
       "      <td>NaN</td>\n",
       "      <td>NaN</td>\n",
       "      <td>2006.38</td>\n",
       "      <td>NaN</td>\n",
       "    </tr>\n",
       "    <tr>\n",
       "      <th>std</th>\n",
       "      <td>NaN</td>\n",
       "      <td>25815.73</td>\n",
       "      <td>NaN</td>\n",
       "      <td>103.39</td>\n",
       "      <td>4.94</td>\n",
       "      <td>NaN</td>\n",
       "      <td>NaN</td>\n",
       "      <td>6.70</td>\n",
       "      <td>NaN</td>\n",
       "    </tr>\n",
       "    <tr>\n",
       "      <th>min</th>\n",
       "      <td>NaN</td>\n",
       "      <td>600.00</td>\n",
       "      <td>NaN</td>\n",
       "      <td>0.00</td>\n",
       "      <td>0.60</td>\n",
       "      <td>NaN</td>\n",
       "      <td>NaN</td>\n",
       "      <td>1969.00</td>\n",
       "      <td>NaN</td>\n",
       "    </tr>\n",
       "    <tr>\n",
       "      <th>25%</th>\n",
       "      <td>NaN</td>\n",
       "      <td>6999.00</td>\n",
       "      <td>NaN</td>\n",
       "      <td>90.00</td>\n",
       "      <td>1.80</td>\n",
       "      <td>NaN</td>\n",
       "      <td>NaN</td>\n",
       "      <td>2003.00</td>\n",
       "      <td>NaN</td>\n",
       "    </tr>\n",
       "    <tr>\n",
       "      <th>50%</th>\n",
       "      <td>NaN</td>\n",
       "      <td>11500.00</td>\n",
       "      <td>NaN</td>\n",
       "      <td>158.00</td>\n",
       "      <td>2.20</td>\n",
       "      <td>NaN</td>\n",
       "      <td>NaN</td>\n",
       "      <td>2007.00</td>\n",
       "      <td>NaN</td>\n",
       "    </tr>\n",
       "    <tr>\n",
       "      <th>75%</th>\n",
       "      <td>NaN</td>\n",
       "      <td>21900.00</td>\n",
       "      <td>NaN</td>\n",
       "      <td>230.00</td>\n",
       "      <td>3.00</td>\n",
       "      <td>NaN</td>\n",
       "      <td>NaN</td>\n",
       "      <td>2012.00</td>\n",
       "      <td>NaN</td>\n",
       "    </tr>\n",
       "    <tr>\n",
       "      <th>max</th>\n",
       "      <td>NaN</td>\n",
       "      <td>300000.00</td>\n",
       "      <td>NaN</td>\n",
       "      <td>980.00</td>\n",
       "      <td>99.99</td>\n",
       "      <td>NaN</td>\n",
       "      <td>NaN</td>\n",
       "      <td>2016.00</td>\n",
       "      <td>NaN</td>\n",
       "    </tr>\n",
       "  </tbody>\n",
       "</table>\n",
       "</div>"
      ],
      "text/plain": [
       "             Brand     Price   Body  Mileage  EngineV Engine Type  \\\n",
       "count         4025   4025.00   4025  4025.00  4025.00        4025   \n",
       "unique           7       NaN      6      NaN      NaN           4   \n",
       "top     Volkswagen       NaN  sedan      NaN      NaN      Diesel   \n",
       "freq           880       NaN   1534      NaN      NaN        1861   \n",
       "mean           NaN  19552.31    NaN   163.57     2.76         NaN   \n",
       "std            NaN  25815.73    NaN   103.39     4.94         NaN   \n",
       "min            NaN    600.00    NaN     0.00     0.60         NaN   \n",
       "25%            NaN   6999.00    NaN    90.00     1.80         NaN   \n",
       "50%            NaN  11500.00    NaN   158.00     2.20         NaN   \n",
       "75%            NaN  21900.00    NaN   230.00     3.00         NaN   \n",
       "max            NaN 300000.00    NaN   980.00    99.99         NaN   \n",
       "\n",
       "       Registration    Year    Model  \n",
       "count          4025 4025.00     4025  \n",
       "unique            2     NaN      306  \n",
       "top             yes     NaN  E-Class  \n",
       "freq           3654     NaN      188  \n",
       "mean            NaN 2006.38      NaN  \n",
       "std             NaN    6.70      NaN  \n",
       "min             NaN 1969.00      NaN  \n",
       "25%             NaN 2003.00      NaN  \n",
       "50%             NaN 2007.00      NaN  \n",
       "75%             NaN 2012.00      NaN  \n",
       "max             NaN 2016.00      NaN  "
      ]
     },
     "execution_count": 144,
     "metadata": {},
     "output_type": "execute_result"
    }
   ],
   "source": [
    "data_no_mv.describe(include='all')"
   ]
  },
  {
   "cell_type": "markdown",
   "metadata": {},
   "source": [
    "#### Exploring the PDFs"
   ]
  },
  {
   "cell_type": "code",
   "execution_count": 145,
   "metadata": {},
   "outputs": [
    {
     "name": "stderr",
     "output_type": "stream",
     "text": [
      "d:\\Codes\\ZTM Machine Learning, Data science\\Sample_Project\\env\\lib\\site-packages\\seaborn\\distributions.py:2619: FutureWarning: `distplot` is a deprecated function and will be removed in a future version. Please adapt your code to use either `displot` (a figure-level function with similar flexibility) or `histplot` (an axes-level function for histograms).\n",
      "  warnings.warn(msg, FutureWarning)\n"
     ]
    },
    {
     "data": {
      "text/plain": [
       "<AxesSubplot:xlabel='Price', ylabel='Density'>"
      ]
     },
     "execution_count": 145,
     "metadata": {},
     "output_type": "execute_result"
    },
    {
     "data": {
      "image/png": "[encoded data removed]",
      "text/plain": [
       "<Figure size 640x480 with 1 Axes>"
      ]
     },
     "metadata": {},
     "output_type": "display_data"
    }
   ],
   "source": [
    "sns.distplot(data_no_mv[\"Price\"])"
   ]
  },
  {
   "cell_type": "markdown",
   "metadata": {},
   "source": [
    "#### Dealing with outliers"
   ]
  },
  {
   "cell_type": "code",
   "execution_count": 146,
   "metadata": {},
   "outputs": [
    {
     "data": {
      "text/html": [
       "<div>\n",
       "<style scoped>\n",
       "    .dataframe tbody tr th:only-of-type {\n",
       "        vertical-align: middle;\n",
       "    }\n",
       "\n",
       "    .dataframe tbody tr th {\n",
       "        vertical-align: top;\n",
       "    }\n",
       "\n",
       "    .dataframe thead th {\n",
       "        text-align: right;\n",
       "    }\n",
       "</style>\n",
       "<table border=\"1\" class=\"dataframe\">\n",
       "  <thead>\n",
       "    <tr style=\"text-align: right;\">\n",
       "      <th></th>\n",
       "      <th>Price</th>\n",
       "      <th>Mileage</th>\n",
       "      <th>EngineV</th>\n",
       "      <th>Year</th>\n",
       "    </tr>\n",
       "  </thead>\n",
       "  <tbody>\n",
       "    <tr>\n",
       "      <th>count</th>\n",
       "      <td>3984.00</td>\n",
       "      <td>3984.00</td>\n",
       "      <td>3984.00</td>\n",
       "      <td>3984.00</td>\n",
       "    </tr>\n",
       "    <tr>\n",
       "      <th>mean</th>\n",
       "      <td>17837.12</td>\n",
       "      <td>165.12</td>\n",
       "      <td>2.74</td>\n",
       "      <td>2006.29</td>\n",
       "    </tr>\n",
       "    <tr>\n",
       "      <th>std</th>\n",
       "      <td>18976.27</td>\n",
       "      <td>102.77</td>\n",
       "      <td>4.96</td>\n",
       "      <td>6.67</td>\n",
       "    </tr>\n",
       "    <tr>\n",
       "      <th>min</th>\n",
       "      <td>600.00</td>\n",
       "      <td>0.00</td>\n",
       "      <td>0.60</td>\n",
       "      <td>1969.00</td>\n",
       "    </tr>\n",
       "    <tr>\n",
       "      <th>25%</th>\n",
       "      <td>6980.00</td>\n",
       "      <td>93.00</td>\n",
       "      <td>1.80</td>\n",
       "      <td>2002.75</td>\n",
       "    </tr>\n",
       "    <tr>\n",
       "      <th>50%</th>\n",
       "      <td>11400.00</td>\n",
       "      <td>160.00</td>\n",
       "      <td>2.20</td>\n",
       "      <td>2007.00</td>\n",
       "    </tr>\n",
       "    <tr>\n",
       "      <th>75%</th>\n",
       "      <td>21000.00</td>\n",
       "      <td>230.00</td>\n",
       "      <td>3.00</td>\n",
       "      <td>2011.00</td>\n",
       "    </tr>\n",
       "    <tr>\n",
       "      <th>max</th>\n",
       "      <td>129222.00</td>\n",
       "      <td>980.00</td>\n",
       "      <td>99.99</td>\n",
       "      <td>2016.00</td>\n",
       "    </tr>\n",
       "  </tbody>\n",
       "</table>\n",
       "</div>"
      ],
      "text/plain": [
       "          Price  Mileage  EngineV    Year\n",
       "count   3984.00  3984.00  3984.00 3984.00\n",
       "mean   17837.12   165.12     2.74 2006.29\n",
       "std    18976.27   102.77     4.96    6.67\n",
       "min      600.00     0.00     0.60 1969.00\n",
       "25%     6980.00    93.00     1.80 2002.75\n",
       "50%    11400.00   160.00     2.20 2007.00\n",
       "75%    21000.00   230.00     3.00 2011.00\n",
       "max   129222.00   980.00    99.99 2016.00"
      ]
     },
     "execution_count": 146,
     "metadata": {},
     "output_type": "execute_result"
    }
   ],
   "source": [
    "q = data_no_mv[\"Price\"].quantile(0.99)\n",
    "data_1 = data_no_mv[data_no_mv[\"Price\"]<q]\n",
    "data_1.describe()"
   ]
  },
  {
   "cell_type": "code",
   "execution_count": 147,
   "metadata": {},
   "outputs": [
    {
     "name": "stderr",
     "output_type": "stream",
     "text": [
      "d:\\Codes\\ZTM Machine Learning, Data science\\Sample_Project\\env\\lib\\site-packages\\seaborn\\distributions.py:2619: FutureWarning: `distplot` is a deprecated function and will be removed in a future version. Please adapt your code to use either `displot` (a figure-level function with similar flexibility) or `histplot` (an axes-level function for histograms).\n",
      "  warnings.warn(msg, FutureWarning)\n"
     ]
    },
    {
     "data": {
      "text/plain": [
       "<AxesSubplot:xlabel='Price', ylabel='Density'>"
      ]
     },
     "execution_count": 147,
     "metadata": {},
     "output_type": "execute_result"
    },
    {
     "data": {
      "image/png": "[encoded data removed]",
      "text/plain": [
       "<Figure size 640x480 with 1 Axes>"
      ]
     },
     "metadata": {},
     "output_type": "display_data"
    }
   ],
   "source": [
    "sns.distplot(data_1[\"Price\"])"
   ]
  },
  {
   "cell_type": "code",
   "execution_count": 148,
   "metadata": {},
   "outputs": [
    {
     "name": "stderr",
     "output_type": "stream",
     "text": [
      "d:\\Codes\\ZTM Machine Learning, Data science\\Sample_Project\\env\\lib\\site-packages\\seaborn\\distributions.py:2619: FutureWarning: `distplot` is a deprecated function and will be removed in a future version. Please adapt your code to use either `displot` (a figure-level function with similar flexibility) or `histplot` (an axes-level function for histograms).\n",
      "  warnings.warn(msg, FutureWarning)\n"
     ]
    },
    {
     "data": {
      "text/plain": [
       "<AxesSubplot:xlabel='Mileage', ylabel='Density'>"
      ]
     },
     "execution_count": 148,
     "metadata": {},
     "output_type": "execute_result"
    },
    {
     "data": {
      "image/png": "[encoded data removed]",
      "text/plain": [
       "<Figure size 640x480 with 1 Axes>"
      ]
     },
     "metadata": {},
     "output_type": "display_data"
    }
   ],
   "source": [
    "sns.distplot(data_no_mv[\"Mileage\"])"
   ]
  },
  {
   "cell_type": "code",
   "execution_count": 149,
   "metadata": {},
   "outputs": [],
   "source": [
    "q = data_1[\"Mileage\"].quantile(0.99)\n",
    "data_2 = data_1[data_1[\"Mileage\"]<q]"
   ]
  },
  {
   "cell_type": "code",
   "execution_count": 150,
   "metadata": {},
   "outputs": [
    {
     "name": "stderr",
     "output_type": "stream",
     "text": [
      "d:\\Codes\\ZTM Machine Learning, Data science\\Sample_Project\\env\\lib\\site-packages\\seaborn\\distributions.py:2619: FutureWarning: `distplot` is a deprecated function and will be removed in a future version. Please adapt your code to use either `displot` (a figure-level function with similar flexibility) or `histplot` (an axes-level function for histograms).\n",
      "  warnings.warn(msg, FutureWarning)\n"
     ]
    },
    {
     "data": {
      "text/plain": [
       "<AxesSubplot:xlabel='Mileage', ylabel='Density'>"
      ]
     },
     "execution_count": 150,
     "metadata": {},
     "output_type": "execute_result"
    },
    {
     "data": {
      "image/png": "[encoded data removed]",
      "text/plain": [
       "<Figure size 640x480 with 1 Axes>"
      ]
     },
     "metadata": {},
     "output_type": "display_data"
    }
   ],
   "source": [
    "sns.distplot(data_2[\"Mileage\"])"
   ]
  },
  {
   "cell_type": "code",
   "execution_count": 151,
   "metadata": {},
   "outputs": [
    {
     "name": "stderr",
     "output_type": "stream",
     "text": [
      "d:\\Codes\\ZTM Machine Learning, Data science\\Sample_Project\\env\\lib\\site-packages\\seaborn\\distributions.py:2619: FutureWarning: `distplot` is a deprecated function and will be removed in a future version. Please adapt your code to use either `displot` (a figure-level function with similar flexibility) or `histplot` (an axes-level function for histograms).\n",
      "  warnings.warn(msg, FutureWarning)\n"
     ]
    },
    {
     "data": {
      "text/plain": [
       "<AxesSubplot:xlabel='EngineV', ylabel='Density'>"
      ]
     },
     "execution_count": 151,
     "metadata": {},
     "output_type": "execute_result"
    },
    {
     "data": {
      "image/png": "[encoded data removed]",
      "text/plain": [
       "<Figure size 640x480 with 1 Axes>"
      ]
     },
     "metadata": {},
     "output_type": "display_data"
    }
   ],
   "source": [
    "sns.distplot(data_no_mv[\"EngineV\"])"
   ]
  },
  {
   "cell_type": "code",
   "execution_count": 152,
   "metadata": {},
   "outputs": [],
   "source": [
    "data_3 = data_2[data_2[\"EngineV\"]<6.5]"
   ]
  },
  {
   "cell_type": "code",
   "execution_count": 153,
   "metadata": {},
   "outputs": [
    {
     "name": "stderr",
     "output_type": "stream",
     "text": [
      "d:\\Codes\\ZTM Machine Learning, Data science\\Sample_Project\\env\\lib\\site-packages\\seaborn\\distributions.py:2619: FutureWarning: `distplot` is a deprecated function and will be removed in a future version. Please adapt your code to use either `displot` (a figure-level function with similar flexibility) or `histplot` (an axes-level function for histograms).\n",
      "  warnings.warn(msg, FutureWarning)\n"
     ]
    },
    {
     "data": {
      "text/plain": [
       "<AxesSubplot:xlabel='EngineV', ylabel='Density'>"
      ]
     },
     "execution_count": 153,
     "metadata": {},
     "output_type": "execute_result"
    },
    {
     "data": {
      "image/png": "[encoded data removed]",
      "text/plain": [
       "<Figure size 640x480 with 1 Axes>"
      ]
     },
     "metadata": {},
     "output_type": "display_data"
    }
   ],
   "source": [
    "sns.distplot(data_3[\"EngineV\"])"
   ]
  },
  {
   "cell_type": "code",
   "execution_count": 154,
   "metadata": {},
   "outputs": [
    {
     "name": "stderr",
     "output_type": "stream",
     "text": [
      "d:\\Codes\\ZTM Machine Learning, Data science\\Sample_Project\\env\\lib\\site-packages\\seaborn\\distributions.py:2619: FutureWarning: `distplot` is a deprecated function and will be removed in a future version. Please adapt your code to use either `displot` (a figure-level function with similar flexibility) or `histplot` (an axes-level function for histograms).\n",
      "  warnings.warn(msg, FutureWarning)\n"
     ]
    },
    {
     "data": {
      "text/plain": [
       "<AxesSubplot:xlabel='Year', ylabel='Density'>"
      ]
     },
     "execution_count": 154,
     "metadata": {},
     "output_type": "execute_result"
    },
    {
     "data": {
      "image/png": "[encoded data removed]",
      "text/plain": [
       "<Figure size 640x480 with 1 Axes>"
      ]
     },
     "metadata": {},
     "output_type": "display_data"
    }
   ],
   "source": [
    "sns.distplot(data_no_mv[\"Year\"])"
   ]
  },
  {
   "cell_type": "code",
   "execution_count": 155,
   "metadata": {},
   "outputs": [],
   "source": [
    "q = data_3[\"Year\"].quantile(0.01)\n",
    "data_4 = data_3[data_3[\"Year\"]>q]"
   ]
  },
  {
   "cell_type": "code",
   "execution_count": 156,
   "metadata": {},
   "outputs": [
    {
     "name": "stderr",
     "output_type": "stream",
     "text": [
      "d:\\Codes\\ZTM Machine Learning, Data science\\Sample_Project\\env\\lib\\site-packages\\seaborn\\distributions.py:2619: FutureWarning: `distplot` is a deprecated function and will be removed in a future version. Please adapt your code to use either `displot` (a figure-level function with similar flexibility) or `histplot` (an axes-level function for histograms).\n",
      "  warnings.warn(msg, FutureWarning)\n"
     ]
    },
    {
     "data": {
      "text/plain": [
       "<AxesSubplot:xlabel='Year', ylabel='Density'>"
      ]
     },
     "execution_count": 156,
     "metadata": {},
     "output_type": "execute_result"
    },
    {
     "data": {
      "image/png": "[encoded data removed]",
      "text/plain": [
       "<Figure size 640x480 with 1 Axes>"
      ]
     },
     "metadata": {},
     "output_type": "display_data"
    }
   ],
   "source": [
    "sns.distplot(data_4[\"Year\"])"
   ]
  },
  {
   "cell_type": "code",
   "execution_count": 157,
   "metadata": {},
   "outputs": [],
   "source": [
    "data_cleaned = data_4.reset_index(drop=True)"
   ]
  },
  {
   "cell_type": "code",
   "execution_count": 158,
   "metadata": {},
   "outputs": [
    {
     "data": {
      "text/html": [
       "<div>\n",
       "<style scoped>\n",
       "    .dataframe tbody tr th:only-of-type {\n",
       "        vertical-align: middle;\n",
       "    }\n",
       "\n",
       "    .dataframe tbody tr th {\n",
       "        vertical-align: top;\n",
       "    }\n",
       "\n",
       "    .dataframe thead th {\n",
       "        text-align: right;\n",
       "    }\n",
       "</style>\n",
       "<table border=\"1\" class=\"dataframe\">\n",
       "  <thead>\n",
       "    <tr style=\"text-align: right;\">\n",
       "      <th></th>\n",
       "      <th>Brand</th>\n",
       "      <th>Price</th>\n",
       "      <th>Body</th>\n",
       "      <th>Mileage</th>\n",
       "      <th>EngineV</th>\n",
       "      <th>Engine Type</th>\n",
       "      <th>Registration</th>\n",
       "      <th>Year</th>\n",
       "      <th>Model</th>\n",
       "    </tr>\n",
       "  </thead>\n",
       "  <tbody>\n",
       "    <tr>\n",
       "      <th>0</th>\n",
       "      <td>BMW</td>\n",
       "      <td>4200.00</td>\n",
       "      <td>sedan</td>\n",
       "      <td>277</td>\n",
       "      <td>2.00</td>\n",
       "      <td>Petrol</td>\n",
       "      <td>yes</td>\n",
       "      <td>1991</td>\n",
       "      <td>320</td>\n",
       "    </tr>\n",
       "    <tr>\n",
       "      <th>1</th>\n",
       "      <td>Mercedes-Benz</td>\n",
       "      <td>7900.00</td>\n",
       "      <td>van</td>\n",
       "      <td>427</td>\n",
       "      <td>2.90</td>\n",
       "      <td>Diesel</td>\n",
       "      <td>yes</td>\n",
       "      <td>1999</td>\n",
       "      <td>Sprinter 212</td>\n",
       "    </tr>\n",
       "    <tr>\n",
       "      <th>2</th>\n",
       "      <td>Mercedes-Benz</td>\n",
       "      <td>13300.00</td>\n",
       "      <td>sedan</td>\n",
       "      <td>358</td>\n",
       "      <td>5.00</td>\n",
       "      <td>Gas</td>\n",
       "      <td>yes</td>\n",
       "      <td>2003</td>\n",
       "      <td>S 500</td>\n",
       "    </tr>\n",
       "    <tr>\n",
       "      <th>3</th>\n",
       "      <td>Audi</td>\n",
       "      <td>23000.00</td>\n",
       "      <td>crossover</td>\n",
       "      <td>240</td>\n",
       "      <td>4.20</td>\n",
       "      <td>Petrol</td>\n",
       "      <td>yes</td>\n",
       "      <td>2007</td>\n",
       "      <td>Q7</td>\n",
       "    </tr>\n",
       "    <tr>\n",
       "      <th>4</th>\n",
       "      <td>Toyota</td>\n",
       "      <td>18300.00</td>\n",
       "      <td>crossover</td>\n",
       "      <td>120</td>\n",
       "      <td>2.00</td>\n",
       "      <td>Petrol</td>\n",
       "      <td>yes</td>\n",
       "      <td>2011</td>\n",
       "      <td>Rav 4</td>\n",
       "    </tr>\n",
       "    <tr>\n",
       "      <th>...</th>\n",
       "      <td>...</td>\n",
       "      <td>...</td>\n",
       "      <td>...</td>\n",
       "      <td>...</td>\n",
       "      <td>...</td>\n",
       "      <td>...</td>\n",
       "      <td>...</td>\n",
       "      <td>...</td>\n",
       "      <td>...</td>\n",
       "    </tr>\n",
       "    <tr>\n",
       "      <th>3862</th>\n",
       "      <td>Volkswagen</td>\n",
       "      <td>11500.00</td>\n",
       "      <td>van</td>\n",
       "      <td>163</td>\n",
       "      <td>2.50</td>\n",
       "      <td>Diesel</td>\n",
       "      <td>yes</td>\n",
       "      <td>2008</td>\n",
       "      <td>T5 (Transporter)</td>\n",
       "    </tr>\n",
       "    <tr>\n",
       "      <th>3863</th>\n",
       "      <td>Toyota</td>\n",
       "      <td>17900.00</td>\n",
       "      <td>sedan</td>\n",
       "      <td>35</td>\n",
       "      <td>1.60</td>\n",
       "      <td>Petrol</td>\n",
       "      <td>yes</td>\n",
       "      <td>2014</td>\n",
       "      <td>Corolla</td>\n",
       "    </tr>\n",
       "    <tr>\n",
       "      <th>3864</th>\n",
       "      <td>Mercedes-Benz</td>\n",
       "      <td>125000.00</td>\n",
       "      <td>sedan</td>\n",
       "      <td>9</td>\n",
       "      <td>3.00</td>\n",
       "      <td>Diesel</td>\n",
       "      <td>yes</td>\n",
       "      <td>2014</td>\n",
       "      <td>S 350</td>\n",
       "    </tr>\n",
       "    <tr>\n",
       "      <th>3865</th>\n",
       "      <td>BMW</td>\n",
       "      <td>6500.00</td>\n",
       "      <td>sedan</td>\n",
       "      <td>1</td>\n",
       "      <td>3.50</td>\n",
       "      <td>Petrol</td>\n",
       "      <td>yes</td>\n",
       "      <td>1999</td>\n",
       "      <td>535</td>\n",
       "    </tr>\n",
       "    <tr>\n",
       "      <th>3866</th>\n",
       "      <td>Volkswagen</td>\n",
       "      <td>13500.00</td>\n",
       "      <td>van</td>\n",
       "      <td>124</td>\n",
       "      <td>2.00</td>\n",
       "      <td>Diesel</td>\n",
       "      <td>yes</td>\n",
       "      <td>2013</td>\n",
       "      <td>T5 (Transporter)</td>\n",
       "    </tr>\n",
       "  </tbody>\n",
       "</table>\n",
       "<p>3867 rows × 9 columns</p>\n",
       "</div>"
      ],
      "text/plain": [
       "              Brand     Price       Body  Mileage  EngineV Engine Type  \\\n",
       "0               BMW   4200.00      sedan      277     2.00      Petrol   \n",
       "1     Mercedes-Benz   7900.00        van      427     2.90      Diesel   \n",
       "2     Mercedes-Benz  13300.00      sedan      358     5.00         Gas   \n",
       "3              Audi  23000.00  crossover      240     4.20      Petrol   \n",
       "4            Toyota  18300.00  crossover      120     2.00      Petrol   \n",
       "...             ...       ...        ...      ...      ...         ...   \n",
       "3862     Volkswagen  11500.00        van      163     2.50      Diesel   \n",
       "3863         Toyota  17900.00      sedan       35     1.60      Petrol   \n",
       "3864  Mercedes-Benz 125000.00      sedan        9     3.00      Diesel   \n",
       "3865            BMW   6500.00      sedan        1     3.50      Petrol   \n",
       "3866     Volkswagen  13500.00        van      124     2.00      Diesel   \n",
       "\n",
       "     Registration  Year              Model  \n",
       "0             yes  1991                320  \n",
       "1             yes  1999       Sprinter 212  \n",
       "2             yes  2003              S 500  \n",
       "3             yes  2007                 Q7  \n",
       "4             yes  2011              Rav 4  \n",
       "...           ...   ...                ...  \n",
       "3862          yes  2008   T5 (Transporter)  \n",
       "3863          yes  2014            Corolla  \n",
       "3864          yes  2014              S 350  \n",
       "3865          yes  1999                535  \n",
       "3866          yes  2013  T5 (Transporter)   \n",
       "\n",
       "[3867 rows x 9 columns]"
      ]
     },
     "execution_count": 158,
     "metadata": {},
     "output_type": "execute_result"
    }
   ],
   "source": [
    "data_cleaned"
   ]
  },
  {
   "cell_type": "code",
   "execution_count": 159,
   "metadata": {},
   "outputs": [
    {
     "data": {
      "text/html": [
       "<div>\n",
       "<style scoped>\n",
       "    .dataframe tbody tr th:only-of-type {\n",
       "        vertical-align: middle;\n",
       "    }\n",
       "\n",
       "    .dataframe tbody tr th {\n",
       "        vertical-align: top;\n",
       "    }\n",
       "\n",
       "    .dataframe thead th {\n",
       "        text-align: right;\n",
       "    }\n",
       "</style>\n",
       "<table border=\"1\" class=\"dataframe\">\n",
       "  <thead>\n",
       "    <tr style=\"text-align: right;\">\n",
       "      <th></th>\n",
       "      <th>Brand</th>\n",
       "      <th>Price</th>\n",
       "      <th>Body</th>\n",
       "      <th>Mileage</th>\n",
       "      <th>EngineV</th>\n",
       "      <th>Engine Type</th>\n",
       "      <th>Registration</th>\n",
       "      <th>Year</th>\n",
       "      <th>Model</th>\n",
       "    </tr>\n",
       "  </thead>\n",
       "  <tbody>\n",
       "    <tr>\n",
       "      <th>count</th>\n",
       "      <td>3867</td>\n",
       "      <td>3867.00</td>\n",
       "      <td>3867</td>\n",
       "      <td>3867.00</td>\n",
       "      <td>3867.00</td>\n",
       "      <td>3867</td>\n",
       "      <td>3867</td>\n",
       "      <td>3867.00</td>\n",
       "      <td>3867</td>\n",
       "    </tr>\n",
       "    <tr>\n",
       "      <th>unique</th>\n",
       "      <td>7</td>\n",
       "      <td>NaN</td>\n",
       "      <td>6</td>\n",
       "      <td>NaN</td>\n",
       "      <td>NaN</td>\n",
       "      <td>4</td>\n",
       "      <td>2</td>\n",
       "      <td>NaN</td>\n",
       "      <td>291</td>\n",
       "    </tr>\n",
       "    <tr>\n",
       "      <th>top</th>\n",
       "      <td>Volkswagen</td>\n",
       "      <td>NaN</td>\n",
       "      <td>sedan</td>\n",
       "      <td>NaN</td>\n",
       "      <td>NaN</td>\n",
       "      <td>Diesel</td>\n",
       "      <td>yes</td>\n",
       "      <td>NaN</td>\n",
       "      <td>E-Class</td>\n",
       "    </tr>\n",
       "    <tr>\n",
       "      <th>freq</th>\n",
       "      <td>848</td>\n",
       "      <td>NaN</td>\n",
       "      <td>1467</td>\n",
       "      <td>NaN</td>\n",
       "      <td>NaN</td>\n",
       "      <td>1807</td>\n",
       "      <td>3505</td>\n",
       "      <td>NaN</td>\n",
       "      <td>181</td>\n",
       "    </tr>\n",
       "    <tr>\n",
       "      <th>mean</th>\n",
       "      <td>NaN</td>\n",
       "      <td>18194.46</td>\n",
       "      <td>NaN</td>\n",
       "      <td>160.54</td>\n",
       "      <td>2.45</td>\n",
       "      <td>NaN</td>\n",
       "      <td>NaN</td>\n",
       "      <td>2006.71</td>\n",
       "      <td>NaN</td>\n",
       "    </tr>\n",
       "    <tr>\n",
       "      <th>std</th>\n",
       "      <td>NaN</td>\n",
       "      <td>19085.86</td>\n",
       "      <td>NaN</td>\n",
       "      <td>95.63</td>\n",
       "      <td>0.95</td>\n",
       "      <td>NaN</td>\n",
       "      <td>NaN</td>\n",
       "      <td>6.10</td>\n",
       "      <td>NaN</td>\n",
       "    </tr>\n",
       "    <tr>\n",
       "      <th>min</th>\n",
       "      <td>NaN</td>\n",
       "      <td>800.00</td>\n",
       "      <td>NaN</td>\n",
       "      <td>0.00</td>\n",
       "      <td>0.60</td>\n",
       "      <td>NaN</td>\n",
       "      <td>NaN</td>\n",
       "      <td>1988.00</td>\n",
       "      <td>NaN</td>\n",
       "    </tr>\n",
       "    <tr>\n",
       "      <th>25%</th>\n",
       "      <td>NaN</td>\n",
       "      <td>7200.00</td>\n",
       "      <td>NaN</td>\n",
       "      <td>91.00</td>\n",
       "      <td>1.80</td>\n",
       "      <td>NaN</td>\n",
       "      <td>NaN</td>\n",
       "      <td>2003.00</td>\n",
       "      <td>NaN</td>\n",
       "    </tr>\n",
       "    <tr>\n",
       "      <th>50%</th>\n",
       "      <td>NaN</td>\n",
       "      <td>11700.00</td>\n",
       "      <td>NaN</td>\n",
       "      <td>157.00</td>\n",
       "      <td>2.20</td>\n",
       "      <td>NaN</td>\n",
       "      <td>NaN</td>\n",
       "      <td>2008.00</td>\n",
       "      <td>NaN</td>\n",
       "    </tr>\n",
       "    <tr>\n",
       "      <th>75%</th>\n",
       "      <td>NaN</td>\n",
       "      <td>21700.00</td>\n",
       "      <td>NaN</td>\n",
       "      <td>225.00</td>\n",
       "      <td>3.00</td>\n",
       "      <td>NaN</td>\n",
       "      <td>NaN</td>\n",
       "      <td>2012.00</td>\n",
       "      <td>NaN</td>\n",
       "    </tr>\n",
       "    <tr>\n",
       "      <th>max</th>\n",
       "      <td>NaN</td>\n",
       "      <td>129222.00</td>\n",
       "      <td>NaN</td>\n",
       "      <td>435.00</td>\n",
       "      <td>6.30</td>\n",
       "      <td>NaN</td>\n",
       "      <td>NaN</td>\n",
       "      <td>2016.00</td>\n",
       "      <td>NaN</td>\n",
       "    </tr>\n",
       "  </tbody>\n",
       "</table>\n",
       "</div>"
      ],
      "text/plain": [
       "             Brand     Price   Body  Mileage  EngineV Engine Type  \\\n",
       "count         3867   3867.00   3867  3867.00  3867.00        3867   \n",
       "unique           7       NaN      6      NaN      NaN           4   \n",
       "top     Volkswagen       NaN  sedan      NaN      NaN      Diesel   \n",
       "freq           848       NaN   1467      NaN      NaN        1807   \n",
       "mean           NaN  18194.46    NaN   160.54     2.45         NaN   \n",
       "std            NaN  19085.86    NaN    95.63     0.95         NaN   \n",
       "min            NaN    800.00    NaN     0.00     0.60         NaN   \n",
       "25%            NaN   7200.00    NaN    91.00     1.80         NaN   \n",
       "50%            NaN  11700.00    NaN   157.00     2.20         NaN   \n",
       "75%            NaN  21700.00    NaN   225.00     3.00         NaN   \n",
       "max            NaN 129222.00    NaN   435.00     6.30         NaN   \n",
       "\n",
       "       Registration    Year    Model  \n",
       "count          3867 3867.00     3867  \n",
       "unique            2     NaN      291  \n",
       "top             yes     NaN  E-Class  \n",
       "freq           3505     NaN      181  \n",
       "mean            NaN 2006.71      NaN  \n",
       "std             NaN    6.10      NaN  \n",
       "min             NaN 1988.00      NaN  \n",
       "25%             NaN 2003.00      NaN  \n",
       "50%             NaN 2008.00      NaN  \n",
       "75%             NaN 2012.00      NaN  \n",
       "max             NaN 2016.00      NaN  "
      ]
     },
     "execution_count": 159,
     "metadata": {},
     "output_type": "execute_result"
    }
   ],
   "source": [
    "data_cleaned.describe(include=\"all\")"
   ]
  },
  {
   "cell_type": "markdown",
   "metadata": {},
   "source": [
    "### Checking the OLS assumptions"
   ]
  },
  {
   "cell_type": "code",
   "execution_count": 160,
   "metadata": {},
   "outputs": [
    {
     "data": {
      "image/png": "[encoded data removed]",
      "text/plain": [
       "<Figure size 1500x300 with 3 Axes>"
      ]
     },
     "metadata": {},
     "output_type": "display_data"
    }
   ],
   "source": [
    "f, (ax1, ax2, ax3) = plt.subplots(1, 3, sharey=True, figsize=(15,3))\n",
    "ax1.scatter(data_cleaned[\"Year\"], data_cleaned[\"Price\"])\n",
    "ax1.set_title(\"Price and Year\")\n",
    "ax2.scatter(data_cleaned[\"EngineV\"], data_cleaned[\"Price\"])\n",
    "ax2.set_title(\"Price and EngineV\")\n",
    "ax3.scatter(data_cleaned[\"Mileage\"], data_cleaned[\"Price\"])\n",
    "ax3.set_title(\"Price and Mileage\")\n",
    "\n",
    "plt.show()"
   ]
  },
  {
   "cell_type": "code",
   "execution_count": 161,
   "metadata": {},
   "outputs": [
    {
     "name": "stderr",
     "output_type": "stream",
     "text": [
      "d:\\Codes\\ZTM Machine Learning, Data science\\Sample_Project\\env\\lib\\site-packages\\seaborn\\distributions.py:2619: FutureWarning: `distplot` is a deprecated function and will be removed in a future version. Please adapt your code to use either `displot` (a figure-level function with similar flexibility) or `histplot` (an axes-level function for histograms).\n",
      "  warnings.warn(msg, FutureWarning)\n"
     ]
    },
    {
     "data": {
      "text/plain": [
       "<AxesSubplot:xlabel='Price', ylabel='Density'>"
      ]
     },
     "execution_count": 161,
     "metadata": {},
     "output_type": "execute_result"
    },
    {
     "data": {
      "image/png": "[encoded data removed]",
      "text/plain": [
       "<Figure size 640x480 with 1 Axes>"
      ]
     },
     "metadata": {},
     "output_type": "display_data"
    }
   ],
   "source": [
    "sns.distplot(data_cleaned[\"Price\"])"
   ]
  },
  {
   "cell_type": "markdown",
   "metadata": {},
   "source": [
    "#### Relaxing the assumptions"
   ]
  },
  {
   "cell_type": "code",
   "execution_count": 162,
   "metadata": {},
   "outputs": [
    {
     "data": {
      "text/html": [
       "<div>\n",
       "<style scoped>\n",
       "    .dataframe tbody tr th:only-of-type {\n",
       "        vertical-align: middle;\n",
       "    }\n",
       "\n",
       "    .dataframe tbody tr th {\n",
       "        vertical-align: top;\n",
       "    }\n",
       "\n",
       "    .dataframe thead th {\n",
       "        text-align: right;\n",
       "    }\n",
       "</style>\n",
       "<table border=\"1\" class=\"dataframe\">\n",
       "  <thead>\n",
       "    <tr style=\"text-align: right;\">\n",
       "      <th></th>\n",
       "      <th>Brand</th>\n",
       "      <th>Price</th>\n",
       "      <th>Body</th>\n",
       "      <th>Mileage</th>\n",
       "      <th>EngineV</th>\n",
       "      <th>Engine Type</th>\n",
       "      <th>Registration</th>\n",
       "      <th>Year</th>\n",
       "      <th>Model</th>\n",
       "      <th>log_price</th>\n",
       "    </tr>\n",
       "  </thead>\n",
       "  <tbody>\n",
       "    <tr>\n",
       "      <th>0</th>\n",
       "      <td>BMW</td>\n",
       "      <td>4200.00</td>\n",
       "      <td>sedan</td>\n",
       "      <td>277</td>\n",
       "      <td>2.00</td>\n",
       "      <td>Petrol</td>\n",
       "      <td>yes</td>\n",
       "      <td>1991</td>\n",
       "      <td>320</td>\n",
       "      <td>8.34</td>\n",
       "    </tr>\n",
       "    <tr>\n",
       "      <th>1</th>\n",
       "      <td>Mercedes-Benz</td>\n",
       "      <td>7900.00</td>\n",
       "      <td>van</td>\n",
       "      <td>427</td>\n",
       "      <td>2.90</td>\n",
       "      <td>Diesel</td>\n",
       "      <td>yes</td>\n",
       "      <td>1999</td>\n",
       "      <td>Sprinter 212</td>\n",
       "      <td>8.97</td>\n",
       "    </tr>\n",
       "    <tr>\n",
       "      <th>2</th>\n",
       "      <td>Mercedes-Benz</td>\n",
       "      <td>13300.00</td>\n",
       "      <td>sedan</td>\n",
       "      <td>358</td>\n",
       "      <td>5.00</td>\n",
       "      <td>Gas</td>\n",
       "      <td>yes</td>\n",
       "      <td>2003</td>\n",
       "      <td>S 500</td>\n",
       "      <td>9.50</td>\n",
       "    </tr>\n",
       "    <tr>\n",
       "      <th>3</th>\n",
       "      <td>Audi</td>\n",
       "      <td>23000.00</td>\n",
       "      <td>crossover</td>\n",
       "      <td>240</td>\n",
       "      <td>4.20</td>\n",
       "      <td>Petrol</td>\n",
       "      <td>yes</td>\n",
       "      <td>2007</td>\n",
       "      <td>Q7</td>\n",
       "      <td>10.04</td>\n",
       "    </tr>\n",
       "    <tr>\n",
       "      <th>4</th>\n",
       "      <td>Toyota</td>\n",
       "      <td>18300.00</td>\n",
       "      <td>crossover</td>\n",
       "      <td>120</td>\n",
       "      <td>2.00</td>\n",
       "      <td>Petrol</td>\n",
       "      <td>yes</td>\n",
       "      <td>2011</td>\n",
       "      <td>Rav 4</td>\n",
       "      <td>9.81</td>\n",
       "    </tr>\n",
       "    <tr>\n",
       "      <th>...</th>\n",
       "      <td>...</td>\n",
       "      <td>...</td>\n",
       "      <td>...</td>\n",
       "      <td>...</td>\n",
       "      <td>...</td>\n",
       "      <td>...</td>\n",
       "      <td>...</td>\n",
       "      <td>...</td>\n",
       "      <td>...</td>\n",
       "      <td>...</td>\n",
       "    </tr>\n",
       "    <tr>\n",
       "      <th>3862</th>\n",
       "      <td>Volkswagen</td>\n",
       "      <td>11500.00</td>\n",
       "      <td>van</td>\n",
       "      <td>163</td>\n",
       "      <td>2.50</td>\n",
       "      <td>Diesel</td>\n",
       "      <td>yes</td>\n",
       "      <td>2008</td>\n",
       "      <td>T5 (Transporter)</td>\n",
       "      <td>9.35</td>\n",
       "    </tr>\n",
       "    <tr>\n",
       "      <th>3863</th>\n",
       "      <td>Toyota</td>\n",
       "      <td>17900.00</td>\n",
       "      <td>sedan</td>\n",
       "      <td>35</td>\n",
       "      <td>1.60</td>\n",
       "      <td>Petrol</td>\n",
       "      <td>yes</td>\n",
       "      <td>2014</td>\n",
       "      <td>Corolla</td>\n",
       "      <td>9.79</td>\n",
       "    </tr>\n",
       "    <tr>\n",
       "      <th>3864</th>\n",
       "      <td>Mercedes-Benz</td>\n",
       "      <td>125000.00</td>\n",
       "      <td>sedan</td>\n",
       "      <td>9</td>\n",
       "      <td>3.00</td>\n",
       "      <td>Diesel</td>\n",
       "      <td>yes</td>\n",
       "      <td>2014</td>\n",
       "      <td>S 350</td>\n",
       "      <td>11.74</td>\n",
       "    </tr>\n",
       "    <tr>\n",
       "      <th>3865</th>\n",
       "      <td>BMW</td>\n",
       "      <td>6500.00</td>\n",
       "      <td>sedan</td>\n",
       "      <td>1</td>\n",
       "      <td>3.50</td>\n",
       "      <td>Petrol</td>\n",
       "      <td>yes</td>\n",
       "      <td>1999</td>\n",
       "      <td>535</td>\n",
       "      <td>8.78</td>\n",
       "    </tr>\n",
       "    <tr>\n",
       "      <th>3866</th>\n",
       "      <td>Volkswagen</td>\n",
       "      <td>13500.00</td>\n",
       "      <td>van</td>\n",
       "      <td>124</td>\n",
       "      <td>2.00</td>\n",
       "      <td>Diesel</td>\n",
       "      <td>yes</td>\n",
       "      <td>2013</td>\n",
       "      <td>T5 (Transporter)</td>\n",
       "      <td>9.51</td>\n",
       "    </tr>\n",
       "  </tbody>\n",
       "</table>\n",
       "<p>3867 rows × 10 columns</p>\n",
       "</div>"
      ],
      "text/plain": [
       "              Brand     Price       Body  Mileage  EngineV Engine Type  \\\n",
       "0               BMW   4200.00      sedan      277     2.00      Petrol   \n",
       "1     Mercedes-Benz   7900.00        van      427     2.90      Diesel   \n",
       "2     Mercedes-Benz  13300.00      sedan      358     5.00         Gas   \n",
       "3              Audi  23000.00  crossover      240     4.20      Petrol   \n",
       "4            Toyota  18300.00  crossover      120     2.00      Petrol   \n",
       "...             ...       ...        ...      ...      ...         ...   \n",
       "3862     Volkswagen  11500.00        van      163     2.50      Diesel   \n",
       "3863         Toyota  17900.00      sedan       35     1.60      Petrol   \n",
       "3864  Mercedes-Benz 125000.00      sedan        9     3.00      Diesel   \n",
       "3865            BMW   6500.00      sedan        1     3.50      Petrol   \n",
       "3866     Volkswagen  13500.00        van      124     2.00      Diesel   \n",
       "\n",
       "     Registration  Year              Model  log_price  \n",
       "0             yes  1991                320       8.34  \n",
       "1             yes  1999       Sprinter 212       8.97  \n",
       "2             yes  2003              S 500       9.50  \n",
       "3             yes  2007                 Q7      10.04  \n",
       "4             yes  2011              Rav 4       9.81  \n",
       "...           ...   ...                ...        ...  \n",
       "3862          yes  2008   T5 (Transporter)       9.35  \n",
       "3863          yes  2014            Corolla       9.79  \n",
       "3864          yes  2014              S 350      11.74  \n",
       "3865          yes  1999                535       8.78  \n",
       "3866          yes  2013  T5 (Transporter)        9.51  \n",
       "\n",
       "[3867 rows x 10 columns]"
      ]
     },
     "execution_count": 162,
     "metadata": {},
     "output_type": "execute_result"
    }
   ],
   "source": [
    "log_price = np.log(data_cleaned[\"Price\"])\n",
    "data_cleaned[\"log_price\"] = log_price\n",
    "data_cleaned"
   ]
  },
  {
   "cell_type": "markdown",
   "metadata": {},
   "source": [
    "##### Plots with log price"
   ]
  },
  {
   "cell_type": "code",
   "execution_count": 163,
   "metadata": {},
   "outputs": [
    {
     "name": "stderr",
     "output_type": "stream",
     "text": [
      "d:\\Codes\\ZTM Machine Learning, Data science\\Sample_Project\\env\\lib\\site-packages\\seaborn\\distributions.py:2619: FutureWarning: `distplot` is a deprecated function and will be removed in a future version. Please adapt your code to use either `displot` (a figure-level function with similar flexibility) or `histplot` (an axes-level function for histograms).\n",
      "  warnings.warn(msg, FutureWarning)\n"
     ]
    },
    {
     "data": {
      "text/plain": [
       "<AxesSubplot:xlabel='log_price', ylabel='Density'>"
      ]
     },
     "execution_count": 163,
     "metadata": {},
     "output_type": "execute_result"
    },
    {
     "data": {
      "image/png": "[encoded data removed]",
      "text/plain": [
       "<Figure size 640x480 with 1 Axes>"
      ]
     },
     "metadata": {},
     "output_type": "display_data"
    }
   ],
   "source": [
    "sns.distplot(data_cleaned[\"log_price\"])"
   ]
  },
  {
   "cell_type": "code",
   "execution_count": 164,
   "metadata": {},
   "outputs": [
    {
     "data": {
      "image/png": "[encoded data removed]",
      "text/plain": [
       "<Figure size 1500x300 with 3 Axes>"
      ]
     },
     "metadata": {},
     "output_type": "display_data"
    }
   ],
   "source": [
    "f, (ax1, ax2, ax3) = plt.subplots(1, 3, sharey=True, figsize=(15,3))\n",
    "ax1.scatter(data_cleaned[\"Year\"], data_cleaned[\"log_price\"])\n",
    "ax1.set_title(\"Log_Price and Year\")\n",
    "ax2.scatter(data_cleaned[\"EngineV\"], data_cleaned[\"log_price\"])\n",
    "ax2.set_title(\"Log_Price and EngineV\")\n",
    "ax3.scatter(data_cleaned[\"Mileage\"], data_cleaned[\"log_price\"])\n",
    "ax3.set_title(\"Log_Price and Mileage\")\n",
    "\n",
    "plt.show()"
   ]
  },
  {
   "cell_type": "code",
   "execution_count": 165,
   "metadata": {},
   "outputs": [],
   "source": [
    "data_cleaned = data_cleaned.drop([\"Price\"], axis=1)"
   ]
  },
  {
   "cell_type": "markdown",
   "metadata": {},
   "source": [
    "#### Multicollinearity"
   ]
  },
  {
   "cell_type": "code",
   "execution_count": 166,
   "metadata": {},
   "outputs": [
    {
     "data": {
      "text/plain": [
       "array(['Brand', 'Body', 'Mileage', 'EngineV', 'Engine Type',\n",
       "       'Registration', 'Year', 'Model', 'log_price'], dtype=object)"
      ]
     },
     "execution_count": 166,
     "metadata": {},
     "output_type": "execute_result"
    }
   ],
   "source": [
    "data_cleaned.columns.values"
   ]
  },
  {
   "cell_type": "code",
   "execution_count": 167,
   "metadata": {},
   "outputs": [],
   "source": [
    "from statsmodels.stats.outliers_influence import variance_inflation_factor\n",
    "variables = data_cleaned[[\"Mileage\", \"Year\", \"EngineV\"]]\n",
    "vif = pd.DataFrame()\n",
    "vif[\"VIF\"] = [variance_inflation_factor(variables.values, i) for i in range(variables.shape[1])]\n",
    "vif[\"features\"] = variables.columns"
   ]
  },
  {
   "cell_type": "code",
   "execution_count": 168,
   "metadata": {},
   "outputs": [
    {
     "data": {
      "text/html": [
       "<div>\n",
       "<style scoped>\n",
       "    .dataframe tbody tr th:only-of-type {\n",
       "        vertical-align: middle;\n",
       "    }\n",
       "\n",
       "    .dataframe tbody tr th {\n",
       "        vertical-align: top;\n",
       "    }\n",
       "\n",
       "    .dataframe thead th {\n",
       "        text-align: right;\n",
       "    }\n",
       "</style>\n",
       "<table border=\"1\" class=\"dataframe\">\n",
       "  <thead>\n",
       "    <tr style=\"text-align: right;\">\n",
       "      <th></th>\n",
       "      <th>VIF</th>\n",
       "      <th>features</th>\n",
       "    </tr>\n",
       "  </thead>\n",
       "  <tbody>\n",
       "    <tr>\n",
       "      <th>0</th>\n",
       "      <td>3.79</td>\n",
       "      <td>Mileage</td>\n",
       "    </tr>\n",
       "    <tr>\n",
       "      <th>1</th>\n",
       "      <td>10.35</td>\n",
       "      <td>Year</td>\n",
       "    </tr>\n",
       "    <tr>\n",
       "      <th>2</th>\n",
       "      <td>7.66</td>\n",
       "      <td>EngineV</td>\n",
       "    </tr>\n",
       "  </tbody>\n",
       "</table>\n",
       "</div>"
      ],
      "text/plain": [
       "    VIF features\n",
       "0  3.79  Mileage\n",
       "1 10.35     Year\n",
       "2  7.66  EngineV"
      ]
     },
     "execution_count": 168,
     "metadata": {},
     "output_type": "execute_result"
    }
   ],
   "source": [
    "vif"
   ]
  },
  {
   "cell_type": "code",
   "execution_count": 169,
   "metadata": {},
   "outputs": [],
   "source": [
    "data_no_multicollinearity = data_cleaned.drop([\"Year\"], axis=1 )"
   ]
  },
  {
   "cell_type": "markdown",
   "metadata": {},
   "source": [
    "#### Create dummy variables"
   ]
  },
  {
   "cell_type": "code",
   "execution_count": 170,
   "metadata": {},
   "outputs": [],
   "source": [
    "data_with_dummies = pd.get_dummies(data_no_multicollinearity, drop_first=True)"
   ]
  },
  {
   "cell_type": "code",
   "execution_count": 171,
   "metadata": {},
   "outputs": [
    {
     "data": {
      "text/html": [
       "<div>\n",
       "<style scoped>\n",
       "    .dataframe tbody tr th:only-of-type {\n",
       "        vertical-align: middle;\n",
       "    }\n",
       "\n",
       "    .dataframe tbody tr th {\n",
       "        vertical-align: top;\n",
       "    }\n",
       "\n",
       "    .dataframe thead th {\n",
       "        text-align: right;\n",
       "    }\n",
       "</style>\n",
       "<table border=\"1\" class=\"dataframe\">\n",
       "  <thead>\n",
       "    <tr style=\"text-align: right;\">\n",
       "      <th></th>\n",
       "      <th>Mileage</th>\n",
       "      <th>EngineV</th>\n",
       "      <th>log_price</th>\n",
       "      <th>Brand_BMW</th>\n",
       "      <th>Brand_Mercedes-Benz</th>\n",
       "      <th>Brand_Mitsubishi</th>\n",
       "      <th>Brand_Renault</th>\n",
       "      <th>Brand_Toyota</th>\n",
       "      <th>Brand_Volkswagen</th>\n",
       "      <th>Body_hatch</th>\n",
       "      <th>...</th>\n",
       "      <th>Model_Vito</th>\n",
       "      <th>Model_X1</th>\n",
       "      <th>Model_X3</th>\n",
       "      <th>Model_X5</th>\n",
       "      <th>Model_X5 M</th>\n",
       "      <th>Model_X6</th>\n",
       "      <th>Model_X6 M</th>\n",
       "      <th>Model_Yaris</th>\n",
       "      <th>Model_Z3</th>\n",
       "      <th>Model_Z4</th>\n",
       "    </tr>\n",
       "  </thead>\n",
       "  <tbody>\n",
       "    <tr>\n",
       "      <th>0</th>\n",
       "      <td>277</td>\n",
       "      <td>2.00</td>\n",
       "      <td>8.34</td>\n",
       "      <td>1</td>\n",
       "      <td>0</td>\n",
       "      <td>0</td>\n",
       "      <td>0</td>\n",
       "      <td>0</td>\n",
       "      <td>0</td>\n",
       "      <td>0</td>\n",
       "      <td>...</td>\n",
       "      <td>0</td>\n",
       "      <td>0</td>\n",
       "      <td>0</td>\n",
       "      <td>0</td>\n",
       "      <td>0</td>\n",
       "      <td>0</td>\n",
       "      <td>0</td>\n",
       "      <td>0</td>\n",
       "      <td>0</td>\n",
       "      <td>0</td>\n",
       "    </tr>\n",
       "    <tr>\n",
       "      <th>1</th>\n",
       "      <td>427</td>\n",
       "      <td>2.90</td>\n",
       "      <td>8.97</td>\n",
       "      <td>0</td>\n",
       "      <td>1</td>\n",
       "      <td>0</td>\n",
       "      <td>0</td>\n",
       "      <td>0</td>\n",
       "      <td>0</td>\n",
       "      <td>0</td>\n",
       "      <td>...</td>\n",
       "      <td>0</td>\n",
       "      <td>0</td>\n",
       "      <td>0</td>\n",
       "      <td>0</td>\n",
       "      <td>0</td>\n",
       "      <td>0</td>\n",
       "      <td>0</td>\n",
       "      <td>0</td>\n",
       "      <td>0</td>\n",
       "      <td>0</td>\n",
       "    </tr>\n",
       "    <tr>\n",
       "      <th>2</th>\n",
       "      <td>358</td>\n",
       "      <td>5.00</td>\n",
       "      <td>9.50</td>\n",
       "      <td>0</td>\n",
       "      <td>1</td>\n",
       "      <td>0</td>\n",
       "      <td>0</td>\n",
       "      <td>0</td>\n",
       "      <td>0</td>\n",
       "      <td>0</td>\n",
       "      <td>...</td>\n",
       "      <td>0</td>\n",
       "      <td>0</td>\n",
       "      <td>0</td>\n",
       "      <td>0</td>\n",
       "      <td>0</td>\n",
       "      <td>0</td>\n",
       "      <td>0</td>\n",
       "      <td>0</td>\n",
       "      <td>0</td>\n",
       "      <td>0</td>\n",
       "    </tr>\n",
       "    <tr>\n",
       "      <th>3</th>\n",
       "      <td>240</td>\n",
       "      <td>4.20</td>\n",
       "      <td>10.04</td>\n",
       "      <td>0</td>\n",
       "      <td>0</td>\n",
       "      <td>0</td>\n",
       "      <td>0</td>\n",
       "      <td>0</td>\n",
       "      <td>0</td>\n",
       "      <td>0</td>\n",
       "      <td>...</td>\n",
       "      <td>0</td>\n",
       "      <td>0</td>\n",
       "      <td>0</td>\n",
       "      <td>0</td>\n",
       "      <td>0</td>\n",
       "      <td>0</td>\n",
       "      <td>0</td>\n",
       "      <td>0</td>\n",
       "      <td>0</td>\n",
       "      <td>0</td>\n",
       "    </tr>\n",
       "    <tr>\n",
       "      <th>4</th>\n",
       "      <td>120</td>\n",
       "      <td>2.00</td>\n",
       "      <td>9.81</td>\n",
       "      <td>0</td>\n",
       "      <td>0</td>\n",
       "      <td>0</td>\n",
       "      <td>0</td>\n",
       "      <td>1</td>\n",
       "      <td>0</td>\n",
       "      <td>0</td>\n",
       "      <td>...</td>\n",
       "      <td>0</td>\n",
       "      <td>0</td>\n",
       "      <td>0</td>\n",
       "      <td>0</td>\n",
       "      <td>0</td>\n",
       "      <td>0</td>\n",
       "      <td>0</td>\n",
       "      <td>0</td>\n",
       "      <td>0</td>\n",
       "      <td>0</td>\n",
       "    </tr>\n",
       "  </tbody>\n",
       "</table>\n",
       "<p>5 rows × 308 columns</p>\n",
       "</div>"
      ],
      "text/plain": [
       "   Mileage  EngineV  log_price  Brand_BMW  Brand_Mercedes-Benz  \\\n",
       "0      277     2.00       8.34          1                    0   \n",
       "1      427     2.90       8.97          0                    1   \n",
       "2      358     5.00       9.50          0                    1   \n",
       "3      240     4.20      10.04          0                    0   \n",
       "4      120     2.00       9.81          0                    0   \n",
       "\n",
       "   Brand_Mitsubishi  Brand_Renault  Brand_Toyota  Brand_Volkswagen  \\\n",
       "0                 0              0             0                 0   \n",
       "1                 0              0             0                 0   \n",
       "2                 0              0             0                 0   \n",
       "3                 0              0             0                 0   \n",
       "4                 0              0             1                 0   \n",
       "\n",
       "   Body_hatch  ...  Model_Vito  Model_X1  Model_X3  Model_X5  Model_X5 M  \\\n",
       "0           0  ...           0         0         0         0           0   \n",
       "1           0  ...           0         0         0         0           0   \n",
       "2           0  ...           0         0         0         0           0   \n",
       "3           0  ...           0         0         0         0           0   \n",
       "4           0  ...           0         0         0         0           0   \n",
       "\n",
       "   Model_X6  Model_X6 M  Model_Yaris  Model_Z3  Model_Z4  \n",
       "0         0           0            0         0         0  \n",
       "1         0           0            0         0         0  \n",
       "2         0           0            0         0         0  \n",
       "3         0           0            0         0         0  \n",
       "4         0           0            0         0         0  \n",
       "\n",
       "[5 rows x 308 columns]"
      ]
     },
     "execution_count": 171,
     "metadata": {},
     "output_type": "execute_result"
    }
   ],
   "source": [
    "data_with_dummies.head()"
   ]
  },
  {
   "cell_type": "markdown",
   "metadata": {},
   "source": [
    "#### Rearrange a bit"
   ]
  },
  {
   "cell_type": "code",
   "execution_count": 172,
   "metadata": {},
   "outputs": [
    {
     "data": {
      "text/plain": [
       "array(['Mileage', 'EngineV', 'log_price', 'Brand_BMW',\n",
       "       'Brand_Mercedes-Benz', 'Brand_Mitsubishi', 'Brand_Renault',\n",
       "       'Brand_Toyota', 'Brand_Volkswagen', 'Body_hatch', 'Body_other',\n",
       "       'Body_sedan', 'Body_vagon', 'Body_van', 'Engine Type_Gas',\n",
       "       'Engine Type_Other', 'Engine Type_Petrol', 'Registration_yes',\n",
       "       'Model_100', 'Model_11', 'Model_116', 'Model_118', 'Model_120',\n",
       "       'Model_19', 'Model_190', 'Model_200', 'Model_210', 'Model_220',\n",
       "       'Model_230', 'Model_25', 'Model_250', 'Model_300', 'Model_316',\n",
       "       'Model_318', 'Model_320', 'Model_323', 'Model_325', 'Model_328',\n",
       "       'Model_330', 'Model_335', 'Model_4 Series Gran Coupe', 'Model_428',\n",
       "       'Model_4Runner', 'Model_5 Series', 'Model_5 Series GT',\n",
       "       'Model_520', 'Model_523', 'Model_524', 'Model_525', 'Model_528',\n",
       "       'Model_530', 'Model_535', 'Model_540', 'Model_545', 'Model_550',\n",
       "       'Model_6 Series Gran Coupe', 'Model_630', 'Model_640', 'Model_645',\n",
       "       'Model_650', 'Model_730', 'Model_735', 'Model_740', 'Model_745',\n",
       "       'Model_750', 'Model_760', 'Model_80', 'Model_9', 'Model_90',\n",
       "       'Model_A 140', 'Model_A 150', 'Model_A 170', 'Model_A 180',\n",
       "       'Model_A1', 'Model_A3', 'Model_A4', 'Model_A4 Allroad', 'Model_A5',\n",
       "       'Model_A6', 'Model_A6 Allroad', 'Model_A7', 'Model_A8',\n",
       "       'Model_ASX', 'Model_Amarok', 'Model_Auris', 'Model_Avalon',\n",
       "       'Model_Avensis', 'Model_Aygo', 'Model_B 170', 'Model_B 180',\n",
       "       'Model_B 200', 'Model_Beetle', 'Model_Bora', 'Model_C-Class',\n",
       "       'Model_CL 180', 'Model_CL 500', 'Model_CL 55 AMG', 'Model_CL 550',\n",
       "       'Model_CL 63 AMG', 'Model_CLA 200', 'Model_CLA 220',\n",
       "       'Model_CLA-Class', 'Model_CLC 180', 'Model_CLC 200',\n",
       "       'Model_CLK 200', 'Model_CLK 220', 'Model_CLK 230', 'Model_CLK 240',\n",
       "       'Model_CLK 280', 'Model_CLK 320', 'Model_CLK 430', 'Model_CLS 350',\n",
       "       'Model_CLS 400', 'Model_CLS 500', 'Model_CLS 63 AMG',\n",
       "       'Model_Caddy', 'Model_Camry', 'Model_Captur', 'Model_Caravelle',\n",
       "       'Model_Carina', 'Model_Carisma', 'Model_Celica', 'Model_Clio',\n",
       "       'Model_Colt', 'Model_Corolla', 'Model_Corolla Verso',\n",
       "       'Model_Cross Touran', 'Model_Dokker', 'Model_Duster',\n",
       "       'Model_E-Class', 'Model_Eclipse', 'Model_Eos', 'Model_Espace',\n",
       "       'Model_FJ Cruiser', 'Model_Fluence', 'Model_Fortuner',\n",
       "       'Model_G 320', 'Model_G 350', 'Model_G 500', 'Model_G 55 AMG',\n",
       "       'Model_G 63 AMG', 'Model_GL 320', 'Model_GL 350', 'Model_GL 420',\n",
       "       'Model_GL 450', 'Model_GL 500', 'Model_GL 550', 'Model_GLC-Class',\n",
       "       'Model_GLE-Class', 'Model_GLK 220', 'Model_GLK 300',\n",
       "       'Model_GLS 350', 'Model_GLS 400', 'Model_Galant', 'Model_Golf GTI',\n",
       "       'Model_Golf II', 'Model_Golf III', 'Model_Golf IV',\n",
       "       'Model_Golf Plus', 'Model_Golf V', 'Model_Golf VI',\n",
       "       'Model_Golf VII', 'Model_Golf Variant', 'Model_Grand Scenic',\n",
       "       'Model_Grandis', 'Model_Hiace', 'Model_Highlander', 'Model_Hilux',\n",
       "       'Model_I3', 'Model_IQ', 'Model_Jetta', 'Model_Kangoo',\n",
       "       'Model_Koleos', 'Model_L 200', 'Model_LT', 'Model_Laguna',\n",
       "       'Model_Lancer', 'Model_Lancer Evolution', 'Model_Lancer X',\n",
       "       'Model_Lancer X Sportback', 'Model_Land Cruiser 100',\n",
       "       'Model_Land Cruiser 105', 'Model_Land Cruiser 200',\n",
       "       'Model_Land Cruiser 76', 'Model_Land Cruiser 80',\n",
       "       'Model_Land Cruiser Prado', 'Model_Latitude', 'Model_Logan',\n",
       "       'Model_Lupo', 'Model_M5', 'Model_M6', 'Model_MB', 'Model_ML 250',\n",
       "       'Model_ML 270', 'Model_ML 280', 'Model_ML 320', 'Model_ML 350',\n",
       "       'Model_ML 400', 'Model_ML 430', 'Model_ML 500', 'Model_ML 550',\n",
       "       'Model_ML 63 AMG', 'Model_Master', 'Model_Matrix', 'Model_Megane',\n",
       "       'Model_Modus', 'Model_Multivan', 'Model_New Beetle',\n",
       "       'Model_Outlander', 'Model_Outlander XL', 'Model_Pajero',\n",
       "       'Model_Pajero Pinin', 'Model_Pajero Sport', 'Model_Pajero Wagon',\n",
       "       'Model_Passat B3', 'Model_Passat B4', 'Model_Passat B5',\n",
       "       'Model_Passat B6', 'Model_Passat B7', 'Model_Passat B8',\n",
       "       'Model_Passat CC', 'Model_Phaeton', 'Model_Pointer', 'Model_Polo',\n",
       "       'Model_Previa', 'Model_Prius', 'Model_Q3', 'Model_Q5', 'Model_Q7',\n",
       "       'Model_R 320', 'Model_R8', 'Model_Rav 4', 'Model_S 140',\n",
       "       'Model_S 250', 'Model_S 300', 'Model_S 320', 'Model_S 350',\n",
       "       'Model_S 400', 'Model_S 430', 'Model_S 500', 'Model_S 550',\n",
       "       'Model_S 600', 'Model_S 63 AMG', 'Model_S 65 AMG', 'Model_S4',\n",
       "       'Model_S5', 'Model_S8', 'Model_SL 500 (550)', 'Model_SL 55 AMG',\n",
       "       'Model_SLK 200', 'Model_SLK 350', 'Model_Sandero',\n",
       "       'Model_Sandero StepWay', 'Model_Scenic', 'Model_Scion',\n",
       "       'Model_Scirocco', 'Model_Sequoia', 'Model_Sharan', 'Model_Sienna',\n",
       "       'Model_Smart', 'Model_Space Star', 'Model_Space Wagon',\n",
       "       'Model_Sprinter 208', 'Model_Sprinter 210', 'Model_Sprinter 211',\n",
       "       'Model_Sprinter 212', 'Model_Sprinter 213', 'Model_Sprinter 311',\n",
       "       'Model_Sprinter 312', 'Model_Sprinter 313', 'Model_Sprinter 315',\n",
       "       'Model_Sprinter 316', 'Model_Sprinter 318', 'Model_Sprinter 319',\n",
       "       'Model_Symbol', 'Model_Syncro', 'Model_T3 (Transporter)',\n",
       "       'Model_T4 (Transporter)', 'Model_T4 (Transporter) ',\n",
       "       'Model_T5 (Transporter)', 'Model_T5 (Transporter) ',\n",
       "       'Model_T6 (Transporter)', 'Model_T6 (Transporter) ', 'Model_TT',\n",
       "       'Model_Tacoma', 'Model_Tiguan', 'Model_Touareg', 'Model_Touran',\n",
       "       'Model_Trafic', 'Model_Tundra', 'Model_Up', 'Model_V 250',\n",
       "       'Model_Vaneo', 'Model_Vento', 'Model_Venza', 'Model_Viano',\n",
       "       'Model_Virage', 'Model_Vista', 'Model_Vito', 'Model_X1',\n",
       "       'Model_X3', 'Model_X5', 'Model_X5 M', 'Model_X6', 'Model_X6 M',\n",
       "       'Model_Yaris', 'Model_Z3', 'Model_Z4'], dtype=object)"
      ]
     },
     "execution_count": 172,
     "metadata": {},
     "output_type": "execute_result"
    }
   ],
   "source": [
    "\n",
    "data_with_dummies.columns.values"
   ]
  },
  {
   "cell_type": "code",
   "execution_count": 173,
   "metadata": {},
   "outputs": [],
   "source": [
    "cols = [ 'log_price', 'Mileage', 'EngineV', 'Brand_BMW',\n",
    "       'Brand_Mercedes-Benz', 'Brand_Mitsubishi', 'Brand_Renault',\n",
    "       'Brand_Toyota', 'Brand_Volkswagen', 'Body_hatch', 'Body_other',\n",
    "       'Body_sedan', 'Body_vagon', 'Body_van', 'Engine Type_Gas',\n",
    "       'Engine Type_Other', 'Engine Type_Petrol', 'Registration_yes',\n",
    "       'Model_100', 'Model_11', 'Model_116', 'Model_118', 'Model_120',\n",
    "       'Model_19', 'Model_190', 'Model_200', 'Model_210', 'Model_220',\n",
    "       'Model_230', 'Model_25', 'Model_250', 'Model_300', 'Model_316',\n",
    "       'Model_318', 'Model_320', 'Model_323', 'Model_325', 'Model_328',\n",
    "       'Model_330', 'Model_335', 'Model_4 Series Gran Coupe', 'Model_428',\n",
    "       'Model_4Runner', 'Model_5 Series', 'Model_5 Series GT',\n",
    "       'Model_520', 'Model_523', 'Model_524', 'Model_525', 'Model_528',\n",
    "       'Model_530', 'Model_535', 'Model_540', 'Model_545', 'Model_550',\n",
    "       'Model_6 Series Gran Coupe', 'Model_630', 'Model_640', 'Model_645',\n",
    "       'Model_650', 'Model_730', 'Model_735', 'Model_740', 'Model_745',\n",
    "       'Model_750', 'Model_760', 'Model_80', 'Model_9', 'Model_90',\n",
    "       'Model_A 140', 'Model_A 150', 'Model_A 170', 'Model_A 180',\n",
    "       'Model_A1', 'Model_A3', 'Model_A4', 'Model_A4 Allroad', 'Model_A5',\n",
    "       'Model_A6', 'Model_A6 Allroad', 'Model_A7', 'Model_A8',\n",
    "       'Model_ASX', 'Model_Amarok', 'Model_Auris', 'Model_Avalon',\n",
    "       'Model_Avensis', 'Model_Aygo', 'Model_B 170', 'Model_B 180',\n",
    "       'Model_B 200', 'Model_Beetle', 'Model_Bora', 'Model_C-Class',\n",
    "       'Model_CL 180', 'Model_CL 500', 'Model_CL 55 AMG', 'Model_CL 550',\n",
    "       'Model_CL 63 AMG', 'Model_CLA 200', 'Model_CLA 220',\n",
    "       'Model_CLA-Class', 'Model_CLC 180', 'Model_CLC 200',\n",
    "       'Model_CLK 200', 'Model_CLK 220', 'Model_CLK 230', 'Model_CLK 240',\n",
    "       'Model_CLK 280', 'Model_CLK 320', 'Model_CLK 430', 'Model_CLS 350',\n",
    "       'Model_CLS 400', 'Model_CLS 500', 'Model_CLS 63 AMG',\n",
    "       'Model_Caddy', 'Model_Camry', 'Model_Captur', 'Model_Caravelle',\n",
    "       'Model_Carina', 'Model_Carisma', 'Model_Celica', 'Model_Clio',\n",
    "       'Model_Colt', 'Model_Corolla', 'Model_Corolla Verso',\n",
    "       'Model_Cross Touran', 'Model_Dokker', 'Model_Duster',\n",
    "       'Model_E-Class', 'Model_Eclipse', 'Model_Eos', 'Model_Espace',\n",
    "       'Model_FJ Cruiser', 'Model_Fluence', 'Model_Fortuner',\n",
    "       'Model_G 320', 'Model_G 350', 'Model_G 500', 'Model_G 55 AMG',\n",
    "       'Model_G 63 AMG', 'Model_GL 320', 'Model_GL 350', 'Model_GL 420',\n",
    "       'Model_GL 450', 'Model_GL 500', 'Model_GL 550', 'Model_GLC-Class',\n",
    "       'Model_GLE-Class', 'Model_GLK 220', 'Model_GLK 300',\n",
    "       'Model_GLS 350', 'Model_GLS 400', 'Model_Galant', 'Model_Golf GTI',\n",
    "       'Model_Golf II', 'Model_Golf III', 'Model_Golf IV',\n",
    "       'Model_Golf Plus', 'Model_Golf V', 'Model_Golf VI',\n",
    "       'Model_Golf VII', 'Model_Golf Variant', 'Model_Grand Scenic',\n",
    "       'Model_Grandis', 'Model_Hiace', 'Model_Highlander', 'Model_Hilux',\n",
    "       'Model_I3', 'Model_IQ', 'Model_Jetta', 'Model_Kangoo',\n",
    "       'Model_Koleos', 'Model_L 200', 'Model_LT', 'Model_Laguna',\n",
    "       'Model_Lancer', 'Model_Lancer Evolution', 'Model_Lancer X',\n",
    "       'Model_Lancer X Sportback', 'Model_Land Cruiser 100',\n",
    "       'Model_Land Cruiser 105', 'Model_Land Cruiser 200',\n",
    "       'Model_Land Cruiser 76', 'Model_Land Cruiser 80',\n",
    "       'Model_Land Cruiser Prado', 'Model_Latitude', 'Model_Logan',\n",
    "       'Model_Lupo', 'Model_M5', 'Model_M6', 'Model_MB', 'Model_ML 250',\n",
    "       'Model_ML 270', 'Model_ML 280', 'Model_ML 320', 'Model_ML 350',\n",
    "       'Model_ML 400', 'Model_ML 430', 'Model_ML 500', 'Model_ML 550',\n",
    "       'Model_ML 63 AMG', 'Model_Master', 'Model_Matrix', 'Model_Megane',\n",
    "       'Model_Modus', 'Model_Multivan', 'Model_New Beetle',\n",
    "       'Model_Outlander', 'Model_Outlander XL', 'Model_Pajero',\n",
    "       'Model_Pajero Pinin', 'Model_Pajero Sport', 'Model_Pajero Wagon',\n",
    "       'Model_Passat B3', 'Model_Passat B4', 'Model_Passat B5',\n",
    "       'Model_Passat B6', 'Model_Passat B7', 'Model_Passat B8',\n",
    "       'Model_Passat CC', 'Model_Phaeton', 'Model_Pointer', 'Model_Polo',\n",
    "       'Model_Previa', 'Model_Prius', 'Model_Q3', 'Model_Q5', 'Model_Q7',\n",
    "       'Model_R 320', 'Model_R8', 'Model_Rav 4', 'Model_S 140',\n",
    "       'Model_S 250', 'Model_S 300', 'Model_S 320', 'Model_S 350',\n",
    "       'Model_S 400', 'Model_S 430', 'Model_S 500', 'Model_S 550',\n",
    "       'Model_S 600', 'Model_S 63 AMG', 'Model_S 65 AMG', 'Model_S4',\n",
    "       'Model_S5', 'Model_S8', 'Model_SL 500 (550)', 'Model_SL 55 AMG',\n",
    "       'Model_SLK 200', 'Model_SLK 350', 'Model_Sandero',\n",
    "       'Model_Sandero StepWay', 'Model_Scenic', 'Model_Scion',\n",
    "       'Model_Scirocco', 'Model_Sequoia', 'Model_Sharan', 'Model_Sienna',\n",
    "       'Model_Smart', 'Model_Space Star', 'Model_Space Wagon',\n",
    "       'Model_Sprinter 208', 'Model_Sprinter 210', 'Model_Sprinter 211',\n",
    "       'Model_Sprinter 212', 'Model_Sprinter 213', 'Model_Sprinter 311',\n",
    "       'Model_Sprinter 312', 'Model_Sprinter 313', 'Model_Sprinter 315',\n",
    "       'Model_Sprinter 316', 'Model_Sprinter 318', 'Model_Sprinter 319',\n",
    "       'Model_Symbol', 'Model_Syncro', 'Model_T3 (Transporter)',\n",
    "       'Model_T4 (Transporter)', 'Model_T4 (Transporter) ',\n",
    "       'Model_T5 (Transporter)', 'Model_T5 (Transporter) ',\n",
    "       'Model_T6 (Transporter)', 'Model_T6 (Transporter) ', 'Model_TT',\n",
    "       'Model_Tacoma', 'Model_Tiguan', 'Model_Touareg', 'Model_Touran',\n",
    "       'Model_Trafic', 'Model_Tundra', 'Model_Up', 'Model_V 250',\n",
    "       'Model_Vaneo', 'Model_Vento', 'Model_Venza', 'Model_Viano',\n",
    "       'Model_Virage', 'Model_Vista', 'Model_Vito', 'Model_X1',\n",
    "       'Model_X3', 'Model_X5', 'Model_X5 M', 'Model_X6', 'Model_X6 M',\n",
    "       'Model_Yaris', 'Model_Z3', 'Model_Z4']"
   ]
  },
  {
   "cell_type": "code",
   "execution_count": 174,
   "metadata": {},
   "outputs": [],
   "source": [
    "data_preprocessed = data_with_dummies[cols]"
   ]
  },
  {
   "cell_type": "code",
   "execution_count": 175,
   "metadata": {},
   "outputs": [
    {
     "data": {
      "text/html": [
       "<div>\n",
       "<style scoped>\n",
       "    .dataframe tbody tr th:only-of-type {\n",
       "        vertical-align: middle;\n",
       "    }\n",
       "\n",
       "    .dataframe tbody tr th {\n",
       "        vertical-align: top;\n",
       "    }\n",
       "\n",
       "    .dataframe thead th {\n",
       "        text-align: right;\n",
       "    }\n",
       "</style>\n",
       "<table border=\"1\" class=\"dataframe\">\n",
       "  <thead>\n",
       "    <tr style=\"text-align: right;\">\n",
       "      <th></th>\n",
       "      <th>log_price</th>\n",
       "      <th>Mileage</th>\n",
       "      <th>EngineV</th>\n",
       "      <th>Brand_BMW</th>\n",
       "      <th>Brand_Mercedes-Benz</th>\n",
       "      <th>Brand_Mitsubishi</th>\n",
       "      <th>Brand_Renault</th>\n",
       "      <th>Brand_Toyota</th>\n",
       "      <th>Brand_Volkswagen</th>\n",
       "      <th>Body_hatch</th>\n",
       "      <th>...</th>\n",
       "      <th>Model_Vito</th>\n",
       "      <th>Model_X1</th>\n",
       "      <th>Model_X3</th>\n",
       "      <th>Model_X5</th>\n",
       "      <th>Model_X5 M</th>\n",
       "      <th>Model_X6</th>\n",
       "      <th>Model_X6 M</th>\n",
       "      <th>Model_Yaris</th>\n",
       "      <th>Model_Z3</th>\n",
       "      <th>Model_Z4</th>\n",
       "    </tr>\n",
       "  </thead>\n",
       "  <tbody>\n",
       "    <tr>\n",
       "      <th>0</th>\n",
       "      <td>8.34</td>\n",
       "      <td>277</td>\n",
       "      <td>2.00</td>\n",
       "      <td>1</td>\n",
       "      <td>0</td>\n",
       "      <td>0</td>\n",
       "      <td>0</td>\n",
       "      <td>0</td>\n",
       "      <td>0</td>\n",
       "      <td>0</td>\n",
       "      <td>...</td>\n",
       "      <td>0</td>\n",
       "      <td>0</td>\n",
       "      <td>0</td>\n",
       "      <td>0</td>\n",
       "      <td>0</td>\n",
       "      <td>0</td>\n",
       "      <td>0</td>\n",
       "      <td>0</td>\n",
       "      <td>0</td>\n",
       "      <td>0</td>\n",
       "    </tr>\n",
       "    <tr>\n",
       "      <th>1</th>\n",
       "      <td>8.97</td>\n",
       "      <td>427</td>\n",
       "      <td>2.90</td>\n",
       "      <td>0</td>\n",
       "      <td>1</td>\n",
       "      <td>0</td>\n",
       "      <td>0</td>\n",
       "      <td>0</td>\n",
       "      <td>0</td>\n",
       "      <td>0</td>\n",
       "      <td>...</td>\n",
       "      <td>0</td>\n",
       "      <td>0</td>\n",
       "      <td>0</td>\n",
       "      <td>0</td>\n",
       "      <td>0</td>\n",
       "      <td>0</td>\n",
       "      <td>0</td>\n",
       "      <td>0</td>\n",
       "      <td>0</td>\n",
       "      <td>0</td>\n",
       "    </tr>\n",
       "    <tr>\n",
       "      <th>2</th>\n",
       "      <td>9.50</td>\n",
       "      <td>358</td>\n",
       "      <td>5.00</td>\n",
       "      <td>0</td>\n",
       "      <td>1</td>\n",
       "      <td>0</td>\n",
       "      <td>0</td>\n",
       "      <td>0</td>\n",
       "      <td>0</td>\n",
       "      <td>0</td>\n",
       "      <td>...</td>\n",
       "      <td>0</td>\n",
       "      <td>0</td>\n",
       "      <td>0</td>\n",
       "      <td>0</td>\n",
       "      <td>0</td>\n",
       "      <td>0</td>\n",
       "      <td>0</td>\n",
       "      <td>0</td>\n",
       "      <td>0</td>\n",
       "      <td>0</td>\n",
       "    </tr>\n",
       "    <tr>\n",
       "      <th>3</th>\n",
       "      <td>10.04</td>\n",
       "      <td>240</td>\n",
       "      <td>4.20</td>\n",
       "      <td>0</td>\n",
       "      <td>0</td>\n",
       "      <td>0</td>\n",
       "      <td>0</td>\n",
       "      <td>0</td>\n",
       "      <td>0</td>\n",
       "      <td>0</td>\n",
       "      <td>...</td>\n",
       "      <td>0</td>\n",
       "      <td>0</td>\n",
       "      <td>0</td>\n",
       "      <td>0</td>\n",
       "      <td>0</td>\n",
       "      <td>0</td>\n",
       "      <td>0</td>\n",
       "      <td>0</td>\n",
       "      <td>0</td>\n",
       "      <td>0</td>\n",
       "    </tr>\n",
       "    <tr>\n",
       "      <th>4</th>\n",
       "      <td>9.81</td>\n",
       "      <td>120</td>\n",
       "      <td>2.00</td>\n",
       "      <td>0</td>\n",
       "      <td>0</td>\n",
       "      <td>0</td>\n",
       "      <td>0</td>\n",
       "      <td>1</td>\n",
       "      <td>0</td>\n",
       "      <td>0</td>\n",
       "      <td>...</td>\n",
       "      <td>0</td>\n",
       "      <td>0</td>\n",
       "      <td>0</td>\n",
       "      <td>0</td>\n",
       "      <td>0</td>\n",
       "      <td>0</td>\n",
       "      <td>0</td>\n",
       "      <td>0</td>\n",
       "      <td>0</td>\n",
       "      <td>0</td>\n",
       "    </tr>\n",
       "  </tbody>\n",
       "</table>\n",
       "<p>5 rows × 308 columns</p>\n",
       "</div>"
      ],
      "text/plain": [
       "   log_price  Mileage  EngineV  Brand_BMW  Brand_Mercedes-Benz  \\\n",
       "0       8.34      277     2.00          1                    0   \n",
       "1       8.97      427     2.90          0                    1   \n",
       "2       9.50      358     5.00          0                    1   \n",
       "3      10.04      240     4.20          0                    0   \n",
       "4       9.81      120     2.00          0                    0   \n",
       "\n",
       "   Brand_Mitsubishi  Brand_Renault  Brand_Toyota  Brand_Volkswagen  \\\n",
       "0                 0              0             0                 0   \n",
       "1                 0              0             0                 0   \n",
       "2                 0              0             0                 0   \n",
       "3                 0              0             0                 0   \n",
       "4                 0              0             1                 0   \n",
       "\n",
       "   Body_hatch  ...  Model_Vito  Model_X1  Model_X3  Model_X5  Model_X5 M  \\\n",
       "0           0  ...           0         0         0         0           0   \n",
       "1           0  ...           0         0         0         0           0   \n",
       "2           0  ...           0         0         0         0           0   \n",
       "3           0  ...           0         0         0         0           0   \n",
       "4           0  ...           0         0         0         0           0   \n",
       "\n",
       "   Model_X6  Model_X6 M  Model_Yaris  Model_Z3  Model_Z4  \n",
       "0         0           0            0         0         0  \n",
       "1         0           0            0         0         0  \n",
       "2         0           0            0         0         0  \n",
       "3         0           0            0         0         0  \n",
       "4         0           0            0         0         0  \n",
       "\n",
       "[5 rows x 308 columns]"
      ]
     },
     "execution_count": 175,
     "metadata": {},
     "output_type": "execute_result"
    }
   ],
   "source": [
    "data_preprocessed.head()"
   ]
  },
  {
   "cell_type": "markdown",
   "metadata": {},
   "source": [
    "### Linear Regression Model"
   ]
  },
  {
   "cell_type": "markdown",
   "metadata": {},
   "source": [
    "#### Declare the inputs and the targets"
   ]
  },
  {
   "cell_type": "code",
   "execution_count": 176,
   "metadata": {},
   "outputs": [],
   "source": [
    "targets = data_preprocessed[\"log_price\"]\n",
    "inputs = data_preprocessed.drop([\"log_price\"], axis = 1)"
   ]
  },
  {
   "cell_type": "markdown",
   "metadata": {},
   "source": [
    "#### Scale the data"
   ]
  },
  {
   "cell_type": "code",
   "execution_count": 177,
   "metadata": {},
   "outputs": [
    {
     "data": {
      "text/html": [
       "<style>#sk-container-id-5 {color: black;background-color: white;}#sk-container-id-5 pre{padding: 0;}#sk-container-id-5 div.sk-toggleable {background-color: white;}#sk-container-id-5 label.sk-toggleable__label {cursor: pointer;display: block;width: 100%;margin-bottom: 0;padding: 0.3em;box-sizing: border-box;text-align: center;}#sk-container-id-5 label.sk-toggleable__label-arrow:before {content: \"▸\";float: left;margin-right: 0.25em;color: #696969;}#sk-container-id-5 label.sk-toggleable__label-arrow:hover:before {color: black;}#sk-container-id-5 div.sk-estimator:hover label.sk-toggleable__label-arrow:before {color: black;}#sk-container-id-5 div.sk-toggleable__content {max-height: 0;max-width: 0;overflow: hidden;text-align: left;background-color: #f0f8ff;}#sk-container-id-5 div.sk-toggleable__content pre {margin: 0.2em;color: black;border-radius: 0.25em;background-color: #f0f8ff;}#sk-container-id-5 input.sk-toggleable__control:checked~div.sk-toggleable__content {max-height: 200px;max-width: 100%;overflow: auto;}#sk-container-id-5 input.sk-toggleable__control:checked~label.sk-toggleable__label-arrow:before {content: \"▾\";}#sk-container-id-5 div.sk-estimator input.sk-toggleable__control:checked~label.sk-toggleable__label {background-color: #d4ebff;}#sk-container-id-5 div.sk-label input.sk-toggleable__control:checked~label.sk-toggleable__label {background-color: #d4ebff;}#sk-container-id-5 input.sk-hidden--visually {border: 0;clip: rect(1px 1px 1px 1px);clip: rect(1px, 1px, 1px, 1px);height: 1px;margin: -1px;overflow: hidden;padding: 0;position: absolute;width: 1px;}#sk-container-id-5 div.sk-estimator {font-family: monospace;background-color: #f0f8ff;border: 1px dotted black;border-radius: 0.25em;box-sizing: border-box;margin-bottom: 0.5em;}#sk-container-id-5 div.sk-estimator:hover {background-color: #d4ebff;}#sk-container-id-5 div.sk-parallel-item::after {content: \"\";width: 100%;border-bottom: 1px solid gray;flex-grow: 1;}#sk-container-id-5 div.sk-label:hover label.sk-toggleable__label {background-color: #d4ebff;}#sk-container-id-5 div.sk-serial::before {content: \"\";position: absolute;border-left: 1px solid gray;box-sizing: border-box;top: 0;bottom: 0;left: 50%;z-index: 0;}#sk-container-id-5 div.sk-serial {display: flex;flex-direction: column;align-items: center;background-color: white;padding-right: 0.2em;padding-left: 0.2em;position: relative;}#sk-container-id-5 div.sk-item {position: relative;z-index: 1;}#sk-container-id-5 div.sk-parallel {display: flex;align-items: stretch;justify-content: center;background-color: white;position: relative;}#sk-container-id-5 div.sk-item::before, #sk-container-id-5 div.sk-parallel-item::before {content: \"\";position: absolute;border-left: 1px solid gray;box-sizing: border-box;top: 0;bottom: 0;left: 50%;z-index: -1;}#sk-container-id-5 div.sk-parallel-item {display: flex;flex-direction: column;z-index: 1;position: relative;background-color: white;}#sk-container-id-5 div.sk-parallel-item:first-child::after {align-self: flex-end;width: 50%;}#sk-container-id-5 div.sk-parallel-item:last-child::after {align-self: flex-start;width: 50%;}#sk-container-id-5 div.sk-parallel-item:only-child::after {width: 0;}#sk-container-id-5 div.sk-dashed-wrapped {border: 1px dashed gray;margin: 0 0.4em 0.5em 0.4em;box-sizing: border-box;padding-bottom: 0.4em;background-color: white;}#sk-container-id-5 div.sk-label label {font-family: monospace;font-weight: bold;display: inline-block;line-height: 1.2em;}#sk-container-id-5 div.sk-label-container {text-align: center;}#sk-container-id-5 div.sk-container {/* jupyter's `normalize.less` sets `[hidden] { display: none; }` but bootstrap.min.css set `[hidden] { display: none !important; }` so we also need the `!important` here to be able to override the default hidden behavior on the sphinx rendered scikit-learn.org. See: https://github.com/scikit-learn/scikit-learn/issues/21755 */display: inline-block !important;position: relative;}#sk-container-id-5 div.sk-text-repr-fallback {display: none;}</style><div id=\"sk-container-id-5\" class=\"sk-top-container\"><div class=\"sk-text-repr-fallback\"><pre>StandardScaler()</pre><b>In a Jupyter environment, please rerun this cell to show the HTML representation or trust the notebook. <br />On GitHub, the HTML representation is unable to render, please try loading this page with nbviewer.org.</b></div><div class=\"sk-container\" hidden><div class=\"sk-item\"><div class=\"sk-estimator sk-toggleable\"><input class=\"sk-toggleable__control sk-hidden--visually\" id=\"sk-estimator-id-5\" type=\"checkbox\" checked><label for=\"sk-estimator-id-5\" class=\"sk-toggleable__label sk-toggleable__label-arrow\">StandardScaler</label><div class=\"sk-toggleable__content\"><pre>StandardScaler()</pre></div></div></div></div></div>"
      ],
      "text/plain": [
       "StandardScaler()"
      ]
     },
     "execution_count": 177,
     "metadata": {},
     "output_type": "execute_result"
    }
   ],
   "source": [
    "from sklearn.preprocessing import StandardScaler\n",
    "\n",
    "scaler = StandardScaler()\n",
    "scaler.fit(inputs)"
   ]
  },
  {
   "cell_type": "code",
   "execution_count": 178,
   "metadata": {},
   "outputs": [],
   "source": [
    "inputs_scaled = scaler.transform(inputs)"
   ]
  },
  {
   "cell_type": "markdown",
   "metadata": {},
   "source": [
    "#### Train Test Split"
   ]
  },
  {
   "cell_type": "code",
   "execution_count": 179,
   "metadata": {},
   "outputs": [],
   "source": [
    "from sklearn.model_selection import train_test_split\n",
    "\n",
    "x_train, x_test, y_train, y_test = train_test_split(inputs_scaled, targets, test_size=0.2, random_state=365)"
   ]
  },
  {
   "cell_type": "markdown",
   "metadata": {},
   "source": [
    "#### Create the regression"
   ]
  },
  {
   "cell_type": "code",
   "execution_count": 180,
   "metadata": {},
   "outputs": [
    {
     "data": {
      "text/html": [
       "<style>#sk-container-id-6 {color: black;background-color: white;}#sk-container-id-6 pre{padding: 0;}#sk-container-id-6 div.sk-toggleable {background-color: white;}#sk-container-id-6 label.sk-toggleable__label {cursor: pointer;display: block;width: 100%;margin-bottom: 0;padding: 0.3em;box-sizing: border-box;text-align: center;}#sk-container-id-6 label.sk-toggleable__label-arrow:before {content: \"▸\";float: left;margin-right: 0.25em;color: #696969;}#sk-container-id-6 label.sk-toggleable__label-arrow:hover:before {color: black;}#sk-container-id-6 div.sk-estimator:hover label.sk-toggleable__label-arrow:before {color: black;}#sk-container-id-6 div.sk-toggleable__content {max-height: 0;max-width: 0;overflow: hidden;text-align: left;background-color: #f0f8ff;}#sk-container-id-6 div.sk-toggleable__content pre {margin: 0.2em;color: black;border-radius: 0.25em;background-color: #f0f8ff;}#sk-container-id-6 input.sk-toggleable__control:checked~div.sk-toggleable__content {max-height: 200px;max-width: 100%;overflow: auto;}#sk-container-id-6 input.sk-toggleable__control:checked~label.sk-toggleable__label-arrow:before {content: \"▾\";}#sk-container-id-6 div.sk-estimator input.sk-toggleable__control:checked~label.sk-toggleable__label {background-color: #d4ebff;}#sk-container-id-6 div.sk-label input.sk-toggleable__control:checked~label.sk-toggleable__label {background-color: #d4ebff;}#sk-container-id-6 input.sk-hidden--visually {border: 0;clip: rect(1px 1px 1px 1px);clip: rect(1px, 1px, 1px, 1px);height: 1px;margin: -1px;overflow: hidden;padding: 0;position: absolute;width: 1px;}#sk-container-id-6 div.sk-estimator {font-family: monospace;background-color: #f0f8ff;border: 1px dotted black;border-radius: 0.25em;box-sizing: border-box;margin-bottom: 0.5em;}#sk-container-id-6 div.sk-estimator:hover {background-color: #d4ebff;}#sk-container-id-6 div.sk-parallel-item::after {content: \"\";width: 100%;border-bottom: 1px solid gray;flex-grow: 1;}#sk-container-id-6 div.sk-label:hover label.sk-toggleable__label {background-color: #d4ebff;}#sk-container-id-6 div.sk-serial::before {content: \"\";position: absolute;border-left: 1px solid gray;box-sizing: border-box;top: 0;bottom: 0;left: 50%;z-index: 0;}#sk-container-id-6 div.sk-serial {display: flex;flex-direction: column;align-items: center;background-color: white;padding-right: 0.2em;padding-left: 0.2em;position: relative;}#sk-container-id-6 div.sk-item {position: relative;z-index: 1;}#sk-container-id-6 div.sk-parallel {display: flex;align-items: stretch;justify-content: center;background-color: white;position: relative;}#sk-container-id-6 div.sk-item::before, #sk-container-id-6 div.sk-parallel-item::before {content: \"\";position: absolute;border-left: 1px solid gray;box-sizing: border-box;top: 0;bottom: 0;left: 50%;z-index: -1;}#sk-container-id-6 div.sk-parallel-item {display: flex;flex-direction: column;z-index: 1;position: relative;background-color: white;}#sk-container-id-6 div.sk-parallel-item:first-child::after {align-self: flex-end;width: 50%;}#sk-container-id-6 div.sk-parallel-item:last-child::after {align-self: flex-start;width: 50%;}#sk-container-id-6 div.sk-parallel-item:only-child::after {width: 0;}#sk-container-id-6 div.sk-dashed-wrapped {border: 1px dashed gray;margin: 0 0.4em 0.5em 0.4em;box-sizing: border-box;padding-bottom: 0.4em;background-color: white;}#sk-container-id-6 div.sk-label label {font-family: monospace;font-weight: bold;display: inline-block;line-height: 1.2em;}#sk-container-id-6 div.sk-label-container {text-align: center;}#sk-container-id-6 div.sk-container {/* jupyter's `normalize.less` sets `[hidden] { display: none; }` but bootstrap.min.css set `[hidden] { display: none !important; }` so we also need the `!important` here to be able to override the default hidden behavior on the sphinx rendered scikit-learn.org. See: https://github.com/scikit-learn/scikit-learn/issues/21755 */display: inline-block !important;position: relative;}#sk-container-id-6 div.sk-text-repr-fallback {display: none;}</style><div id=\"sk-container-id-6\" class=\"sk-top-container\"><div class=\"sk-text-repr-fallback\"><pre>LinearRegression()</pre><b>In a Jupyter environment, please rerun this cell to show the HTML representation or trust the notebook. <br />On GitHub, the HTML representation is unable to render, please try loading this page with nbviewer.org.</b></div><div class=\"sk-container\" hidden><div class=\"sk-item\"><div class=\"sk-estimator sk-toggleable\"><input class=\"sk-toggleable__control sk-hidden--visually\" id=\"sk-estimator-id-6\" type=\"checkbox\" checked><label for=\"sk-estimator-id-6\" class=\"sk-toggleable__label sk-toggleable__label-arrow\">LinearRegression</label><div class=\"sk-toggleable__content\"><pre>LinearRegression()</pre></div></div></div></div></div>"
      ],
      "text/plain": [
       "LinearRegression()"
      ]
     },
     "execution_count": 180,
     "metadata": {},
     "output_type": "execute_result"
    }
   ],
   "source": [
    "reg = LinearRegression()\n",
    "reg.fit(x_train, y_train)"
   ]
  },
  {
   "cell_type": "code",
   "execution_count": 181,
   "metadata": {},
   "outputs": [],
   "source": [
    "y_hat = reg.predict(x_train)"
   ]
  },
  {
   "cell_type": "code",
   "execution_count": 182,
   "metadata": {},
   "outputs": [
    {
     "data": {
      "image/png": "[encoded data removed]",
      "text/plain": [
       "<Figure size 640x480 with 1 Axes>"
      ]
     },
     "metadata": {},
     "output_type": "display_data"
    }
   ],
   "source": [
    "plt.scatter(y_train, y_hat )\n",
    "plt.xlabel(\"Targets (y_train)\", size=18)\n",
    "plt.ylabel(\"Predictions (y_hat)\", size=18)\n",
    "plt.xlim(6, 13)\n",
    "plt.ylim(6, 13)\n",
    "plt.show()"
   ]
  },
  {
   "cell_type": "code",
   "execution_count": 183,
   "metadata": {},
   "outputs": [
    {
     "name": "stderr",
     "output_type": "stream",
     "text": [
      "d:\\Codes\\ZTM Machine Learning, Data science\\Sample_Project\\env\\lib\\site-packages\\seaborn\\distributions.py:2619: FutureWarning: `distplot` is a deprecated function and will be removed in a future version. Please adapt your code to use either `displot` (a figure-level function with similar flexibility) or `histplot` (an axes-level function for histograms).\n",
      "  warnings.warn(msg, FutureWarning)\n"
     ]
    },
    {
     "data": {
      "text/plain": [
       "Text(0.5, 1.0, 'Residuals PDF')"
      ]
     },
     "execution_count": 183,
     "metadata": {},
     "output_type": "execute_result"
    },
    {
     "data": {
      "image/png": "[encoded data removed]",
      "text/plain": [
       "<Figure size 640x480 with 1 Axes>"
      ]
     },
     "metadata": {},
     "output_type": "display_data"
    }
   ],
   "source": [
    "sns.distplot(y_train-y_hat)\n",
    "plt.title(\"Residuals PDF\", size = 18)"
   ]
  },
  {
   "cell_type": "code",
   "execution_count": 184,
   "metadata": {},
   "outputs": [
    {
     "data": {
      "text/plain": [
       "0.8242269514119577"
      ]
     },
     "execution_count": 184,
     "metadata": {},
     "output_type": "execute_result"
    }
   ],
   "source": [
    "reg.score(x_train, y_train)"
   ]
  },
  {
   "cell_type": "markdown",
   "metadata": {},
   "source": [
    "#### Finding the weights and bias"
   ]
  },
  {
   "cell_type": "code",
   "execution_count": 185,
   "metadata": {},
   "outputs": [
    {
     "data": {
      "text/plain": [
       "54367323147.68875"
      ]
     },
     "execution_count": 185,
     "metadata": {},
     "output_type": "execute_result"
    }
   ],
   "source": [
    "reg.intercept_"
   ]
  },
  {
   "cell_type": "code",
   "execution_count": 186,
   "metadata": {},
   "outputs": [
    {
     "data": {
      "text/plain": [
       "array([-3.61089394e-01,  2.21827158e-02,  2.76284095e+11,  2.97703119e+11,\n",
       "       -4.55103093e+09,  3.05486565e+12, -1.23694943e+12, -1.62615913e+12,\n",
       "       -5.81871426e-02, -1.35498047e-02, -6.39648438e-02, -5.57861328e-02,\n",
       "       -1.94091797e-02, -9.88769531e-02, -2.31323242e-02, -1.20605469e-01,\n",
       "        3.13537598e-01,  4.66851634e+10, -2.64833957e+12,  3.90319824e-02,\n",
       "        3.77807617e-02, -4.86755371e-03, -2.03408013e+11,  1.29394531e-02,\n",
       "        1.57318115e-02,  7.44628906e-03,  2.74658203e-02,  9.03320312e-03,\n",
       "       -1.43849791e+11, -1.44004822e-03,  1.88674927e-02,  1.16271973e-02,\n",
       "        4.86488342e-02,  1.03729248e-01,  4.60535869e+12,  2.47192383e-02,\n",
       "        3.14941406e-02,  4.20837402e-02, -1.07810555e+13,  2.82058716e-02,\n",
       "        1.38854980e-02,  3.15814703e+12,  2.81982422e-02,  4.03747559e-02,\n",
       "        1.56906128e-01,  5.20019531e-02, -1.26853051e+13,  6.50329590e-02,\n",
       "        6.56127930e-02,  9.93499756e-02,  7.84606934e-02,  3.02124023e-02,\n",
       "       -2.25504730e+12,  5.25207520e-02,  3.99169922e-02,  3.56140137e-02,\n",
       "        6.61621094e-02,  3.16162109e-02,  5.67626953e-03,  9.31930542e-02,\n",
       "        4.36401367e-02,  4.75463867e-02,  3.25546265e-02,  1.11694336e-01,\n",
       "       -1.93272242e+12,  2.95607631e+10, -1.43849791e+11,  1.20759426e+10,\n",
       "        8.78906250e-03,  1.45034790e-02,  9.39941406e-03,  2.89459229e-02,\n",
       "        2.09107351e+10,  3.99995375e+10,  8.81293156e+10,  2.41425125e+10,\n",
       "        4.66851634e+10,  1.46405294e+11,  5.64871453e+10,  2.09107351e+10,\n",
       "        6.58941169e+10,  3.02283412e+10,  1.30334775e+11,  3.76770423e+11,\n",
       "        1.01036543e+11,  3.83389500e+11,  1.01036543e+11,  1.47094727e-02,\n",
       "        3.28292847e-02,  2.00805664e-02,  1.06431668e+11,  1.98986583e+11,\n",
       "        8.96911621e-02, -4.08935547e-03,  3.36303711e-02,  3.07006836e-02,\n",
       "        3.99475098e-02,  3.93066406e-02,  3.23486328e-02,  2.23999023e-02,\n",
       "       -7.63085664e+12,  2.74047852e-02,  1.67846680e-03,  1.30195618e-02,\n",
       "        3.10516357e-02,  1.18908805e+13,  7.65991211e-03,  9.79614258e-03,\n",
       "        2.45361328e-02, -8.58974874e+12,  4.63256836e-02,  3.34701538e-02,\n",
       "        4.31518555e-02,  3.44238281e-02,  7.78212248e+11,  7.92002208e+11,\n",
       "       -2.03408013e+11,  1.68217920e+11,  1.23727978e+11,  3.26461117e+10,\n",
       "        4.29418094e+12, -3.80295322e+11,  3.70076200e+10,  4.81788207e+11,\n",
       "        7.14528664e+10,  7.52682895e+10, -2.03408013e+11, -4.06500135e+11,\n",
       "        1.58142090e-01,  1.74613789e+10,  1.06431668e+11, -2.87587934e+11,\n",
       "        1.88899759e+11, -4.54363180e+11,  7.14528664e+10,  1.87377930e-02,\n",
       "        3.75022888e-02,  8.25195312e-02,  6.64672852e-02,  2.67333984e-02,\n",
       "        7.09533691e-02,  8.46099854e-02,  9.73510742e-03,  3.61328125e-02,\n",
       "        2.93502808e-02,  7.88709734e+12,  2.98309326e-02,  8.63647461e-02,\n",
       "        2.50320435e-02,  1.18408203e-02,  1.22436523e-01,  5.07812500e-02,\n",
       "        6.27621217e+10, -4.60342126e+11,  1.50478160e+11,  3.18633423e+11,\n",
       "        3.67639304e+11,  1.68217920e+11,  2.70962165e+11,  2.81154244e+11,\n",
       "        2.37742016e+11,  1.84249640e+11, -4.76478343e+11,  2.13829675e+10,\n",
       "        1.23727978e+11,  2.57226828e+11,  2.36675654e+11,  1.30807702e+13,\n",
       "        7.14528664e+10,  4.61759249e+11, -1.62446583e+12, -3.21491465e+11,\n",
       "        3.90044006e+10,  1.50478160e+11, -7.44947737e+11,  8.59022999e+10,\n",
       "        2.13829675e+10,  8.59022999e+10,  1.23486566e+10,  2.85256456e+11,\n",
       "        7.14528664e+10,  4.14856213e+11,  7.14528664e+10,  1.42850275e+11,\n",
       "        6.12849064e+11, -1.43849791e+11, -5.37330921e+11,  1.06431668e+11,\n",
       "        8.52355957e-02,  3.77197266e-02,  7.40051270e-03,  3.87268066e-02,\n",
       "        2.33306885e-02,  1.12152100e-02,  4.14428711e-02,  7.34558105e-02,\n",
       "        2.00881958e-02,  5.05065918e-03,  3.24249268e-02,  1.44348145e-02,\n",
       "        4.30908203e-02, -4.31102635e+11,  7.14528664e+10, -1.31174234e+12,\n",
       "       -1.43849791e+11,  3.35781846e+11,  1.06431668e+11,  6.39493719e+10,\n",
       "        5.90533306e+10,  2.75981472e+10,  1.23486566e+10,  6.27621217e+10,\n",
       "        8.50323609e+10,  2.90984523e+11,  2.70962165e+11,  5.49302283e+11,\n",
       "        5.83284494e+11,  5.18294463e+11,  1.68217920e+11,  3.35781846e+11,\n",
       "        1.98986583e+11, -6.98720708e+12,  5.73793464e+11,  7.14528664e+10,\n",
       "        1.42850275e+11,  2.69886556e+10,  4.51080068e+10,  9.05086382e+10,\n",
       "        2.86331177e-02,  2.41425125e+10,  5.02035945e+11,  2.19268799e-02,\n",
       "        1.17088206e+13,  8.41140747e-04,  5.55267334e-02,  1.30523682e-01,\n",
       "        2.16827393e-02,  2.62756348e-02,  1.34765625e-01,  6.17370605e-02,\n",
       "        3.54003906e-02,  4.13208008e-02,  1.24511719e-02,  1.70757529e+10,\n",
       "        1.20759426e+10,  2.09107351e+10,  1.39999390e-02,  2.19116211e-02,\n",
       "        1.41906738e-02,  1.99619525e+12, -3.52130657e+11, -1.43849791e+11,\n",
       "       -6.72880315e+11,  7.14528664e+10,  1.84249640e+11,  7.14528664e+10,\n",
       "        2.49313604e+11,  1.01036543e+11, -1.32751465e-02,  2.75981472e+10,\n",
       "        1.23486566e+10, -1.05628967e-02, -1.18598938e-02,  8.85672815e+11,\n",
       "       -1.72119141e-02,  1.31645203e-02,  1.98364258e-02,  2.65808105e-02,\n",
       "        5.30395508e-02, -1.19018555e-02,  1.87454224e-02,  3.06396484e-02,\n",
       "        2.41088867e-02, -4.54363180e+11,  7.52682895e+10,  7.52682895e+10,\n",
       "        4.55702457e+11,  1.98986583e+11,  5.54292385e+11,  4.43330789e+11,\n",
       "        1.68217920e+11,  1.98986583e+11,  2.69886556e+10,  1.23727978e+11,\n",
       "        3.09696250e+11,  6.01788461e+11,  3.27322194e+11, -1.19274507e+12,\n",
       "        1.59690789e+11,  1.06431668e+11,  7.87963867e-02, -1.68059318e+12,\n",
       "        1.84249640e+11,  1.88899759e+11,  3.51867676e-02, -1.68059318e+12,\n",
       "        7.14528664e+10,  7.35473633e-02,  6.18133545e-02,  7.65380859e-02,\n",
       "        2.46292114e-01,  7.27539062e-02,  1.65710449e-01,  5.02624512e-02,\n",
       "        2.66902261e+11,  7.62939453e-03,  3.83300781e-02])"
      ]
     },
     "execution_count": 186,
     "metadata": {},
     "output_type": "execute_result"
    }
   ],
   "source": [
    "reg.coef_"
   ]
  },
  {
   "cell_type": "code",
   "execution_count": 187,
   "metadata": {},
   "outputs": [
    {
     "data": {
      "text/html": [
       "<div>\n",
       "<style scoped>\n",
       "    .dataframe tbody tr th:only-of-type {\n",
       "        vertical-align: middle;\n",
       "    }\n",
       "\n",
       "    .dataframe tbody tr th {\n",
       "        vertical-align: top;\n",
       "    }\n",
       "\n",
       "    .dataframe thead th {\n",
       "        text-align: right;\n",
       "    }\n",
       "</style>\n",
       "<table border=\"1\" class=\"dataframe\">\n",
       "  <thead>\n",
       "    <tr style=\"text-align: right;\">\n",
       "      <th></th>\n",
       "      <th>Features</th>\n",
       "      <th>Weights</th>\n",
       "    </tr>\n",
       "  </thead>\n",
       "  <tbody>\n",
       "    <tr>\n",
       "      <th>0</th>\n",
       "      <td>Mileage</td>\n",
       "      <td>-0.36</td>\n",
       "    </tr>\n",
       "    <tr>\n",
       "      <th>1</th>\n",
       "      <td>EngineV</td>\n",
       "      <td>0.02</td>\n",
       "    </tr>\n",
       "    <tr>\n",
       "      <th>2</th>\n",
       "      <td>Brand_BMW</td>\n",
       "      <td>276284094779.32</td>\n",
       "    </tr>\n",
       "    <tr>\n",
       "      <th>3</th>\n",
       "      <td>Brand_Mercedes-Benz</td>\n",
       "      <td>297703119062.64</td>\n",
       "    </tr>\n",
       "    <tr>\n",
       "      <th>4</th>\n",
       "      <td>Brand_Mitsubishi</td>\n",
       "      <td>-4551030932.57</td>\n",
       "    </tr>\n",
       "    <tr>\n",
       "      <th>...</th>\n",
       "      <td>...</td>\n",
       "      <td>...</td>\n",
       "    </tr>\n",
       "    <tr>\n",
       "      <th>302</th>\n",
       "      <td>Model_X6</td>\n",
       "      <td>0.17</td>\n",
       "    </tr>\n",
       "    <tr>\n",
       "      <th>303</th>\n",
       "      <td>Model_X6 M</td>\n",
       "      <td>0.05</td>\n",
       "    </tr>\n",
       "    <tr>\n",
       "      <th>304</th>\n",
       "      <td>Model_Yaris</td>\n",
       "      <td>266902261261.86</td>\n",
       "    </tr>\n",
       "    <tr>\n",
       "      <th>305</th>\n",
       "      <td>Model_Z3</td>\n",
       "      <td>0.01</td>\n",
       "    </tr>\n",
       "    <tr>\n",
       "      <th>306</th>\n",
       "      <td>Model_Z4</td>\n",
       "      <td>0.04</td>\n",
       "    </tr>\n",
       "  </tbody>\n",
       "</table>\n",
       "<p>307 rows × 2 columns</p>\n",
       "</div>"
      ],
      "text/plain": [
       "                Features         Weights\n",
       "0                Mileage           -0.36\n",
       "1                EngineV            0.02\n",
       "2              Brand_BMW 276284094779.32\n",
       "3    Brand_Mercedes-Benz 297703119062.64\n",
       "4       Brand_Mitsubishi  -4551030932.57\n",
       "..                   ...             ...\n",
       "302             Model_X6            0.17\n",
       "303           Model_X6 M            0.05\n",
       "304          Model_Yaris 266902261261.86\n",
       "305             Model_Z3            0.01\n",
       "306             Model_Z4            0.04\n",
       "\n",
       "[307 rows x 2 columns]"
      ]
     },
     "execution_count": 187,
     "metadata": {},
     "output_type": "execute_result"
    }
   ],
   "source": [
    "reg_summary = pd.DataFrame(inputs.columns.values, columns = [\"Features\"])\n",
    "reg_summary[\"Weights\"] = reg.coef_\n",
    "reg_summary"
   ]
  },
  {
   "cell_type": "markdown",
   "metadata": {},
   "source": [
    "##### For Continuous variables -\n",
    "* If the weight is positive then the price increase when the variable increases\n",
    "\n",
    "* If the weight is negative then the price decreases when the variable increases\n",
    "\n",
    "##### For the dummies it's a bit different. Let's see -"
   ]
  },
  {
   "cell_type": "code",
   "execution_count": 188,
   "metadata": {},
   "outputs": [
    {
     "data": {
      "text/plain": [
       "array(['BMW', 'Mercedes-Benz', 'Audi', 'Toyota', 'Renault', 'Volkswagen',\n",
       "       'Mitsubishi'], dtype=object)"
      ]
     },
     "execution_count": 188,
     "metadata": {},
     "output_type": "execute_result"
    }
   ],
   "source": [
    "data_cleaned[\"Brand\"].unique()"
   ]
  },
  {
   "cell_type": "markdown",
   "metadata": {},
   "source": [
    "Here in the `reg_summary` table, we have all the brands except `Audi`. Which means `Audi` is the benchmark.\n",
    "\n",
    "* If a brand has positive weight, then all things equal, car price of that brand will be more\n",
    "* If a brand has negative weight, then all things equal, car price of that brand will be less\n",
    "\n",
    "*  In our case, `Mercedes` has a weight of almost zero. As our dummies are scaled, we cannot be sure that `Mercedes` are actually more expensive than `Audi`, but in this case it seems to be more expensive  "
   ]
  },
  {
   "cell_type": "markdown",
   "metadata": {},
   "source": [
    "* #### As our weights are standardized, we can see that which is more significant.\n",
    "    * `Mileage` has almost twice the strength of `EngineV`\n",
    "\n",
    "\n",
    "* #### It does not make sense to compare the weights of continuous variables and dummies. Dummies weights are relative to a benchmark variables. "
   ]
  },
  {
   "cell_type": "markdown",
   "metadata": {},
   "source": [
    "### Testing"
   ]
  },
  {
   "cell_type": "code",
   "execution_count": 189,
   "metadata": {},
   "outputs": [],
   "source": [
    "y_hat_test = reg.predict(x_test)"
   ]
  },
  {
   "cell_type": "code",
   "execution_count": 190,
   "metadata": {},
   "outputs": [
    {
     "data": {
      "image/png": "[encoded data removed]",
      "text/plain": [
       "<Figure size 640x480 with 1 Axes>"
      ]
     },
     "metadata": {},
     "output_type": "display_data"
    }
   ],
   "source": [
    "plt.scatter(y_test, y_hat_test, alpha=0.4)\n",
    "plt.xlabel(\"Targets (y_test)\", size=18)\n",
    "plt.ylabel(\"Predictions (y_hat_test)\", size=18)\n",
    "plt.xlim(6,13)\n",
    "plt.ylim(6,13)\n",
    "plt.show()"
   ]
  },
  {
   "cell_type": "code",
   "execution_count": 191,
   "metadata": {},
   "outputs": [
    {
     "data": {
      "text/plain": [
       "array([ 9.22693634e+00,  5.22996087e+14,  8.64234161e+00,  8.90998077e+00,\n",
       "        9.32178497e+00, -8.50068475e+13,  8.13535600e+14,  9.47046661e+00,\n",
       "        9.35614777e+00,  1.06867752e+01,  8.69464874e+00,  8.39234161e+00,\n",
       "        7.45642853e+00,  9.63379669e+00,  9.04273224e+00,  9.46955109e+00,\n",
       "        1.01206131e+01,  9.34943390e+00,  1.04330521e+01,  9.51978302e+00,\n",
       "        9.28174591e+00,  1.01399002e+01,  8.53589630e+00,  9.31421661e+00,\n",
       "        9.84156036e+00,  1.02966385e+01,  8.15406036e+00,  8.40094757e+00,\n",
       "        1.04250565e+01,  1.08575516e+01,  9.31018829e+00,  9.09387970e+00,\n",
       "       -4.74182704e+14,  9.78076935e+00,  9.98218536e+00,  9.69727325e+00,\n",
       "        9.43433380e+00,  1.03210526e+01,  9.55402374e+00,  1.03552322e+01,\n",
       "        9.92823029e+00,  9.82642365e+00,  1.07669754e+01,  9.80988312e+00,\n",
       "        9.23493195e+00,  9.01569366e+00,  8.48242950e+00,  1.02075272e+01,\n",
       "        1.07328568e+01,  8.22876740e+00,  7.83399200e+00,  7.84058380e+00,\n",
       "        9.20874786e+00,  9.71735382e+00,  1.00993118e+01,  9.22534943e+00,\n",
       "        9.44312286e+00,  1.01530838e+01,  1.03743362e+01,  9.20429230e+00,\n",
       "        9.45093536e+00,  8.90454865e+00,  9.03052521e+00,  8.35352325e+00,\n",
       "        9.03223419e+00,  9.97705841e+00,  7.28199005e+00, -4.39238292e+14,\n",
       "        9.07477570e+00,  7.64209747e+00,  1.02802811e+01,  9.40100861e+00,\n",
       "        1.01860428e+01,  9.63483429e+00,  7.60059357e+00,  8.33228302e+00,\n",
       "        8.54859161e+00,  8.72492218e+00,  1.04025955e+01,  9.85181427e+00,\n",
       "        9.05164337e+00,  9.24616241e+00,  8.74048615e+00,  8.08234406e+00,\n",
       "        8.40399933e+00,  1.00129471e+01,  9.17652130e+00,  7.76514435e+00,\n",
       "        9.18140411e+00,  9.52124786e+00,  9.15857697e+00,  9.71460724e+00,\n",
       "        8.87415314e+00,  9.53199005e+00,  8.98999786e+00,  1.03789139e+01,\n",
       "        9.10816193e+00,  7.88990021e+00,  5.50828702e+13,  8.68726349e+00,\n",
       "        1.09524002e+01,  8.72870636e+00,  1.01882401e+01,  8.73560333e+00,\n",
       "        8.88172150e+00,  9.19507599e+00,  9.50489044e+00,  8.92554474e+00,\n",
       "        9.04444122e+00,  9.52979279e+00,  1.02487869e+01,  8.23487091e+00,\n",
       "        9.90314484e+00,  8.74756622e+00,  1.05166702e+01,  9.07056427e+00,\n",
       "        9.58734894e+00,  9.08216095e+00,  9.70642853e+00,  8.80347443e+00,\n",
       "        1.05815506e+01,  1.03142166e+01,  1.07294998e+01,  8.78394318e+00,\n",
       "        9.74048615e+00,  9.63849640e+00,  9.17627716e+00,  9.56079865e+00,\n",
       "        8.89820099e+00,  9.37201691e+00,  9.49164581e+00,  1.04545975e+01,\n",
       "        9.42920685e+00,  8.99732208e+00,  9.26282501e+00,  1.12561111e+01,\n",
       "        1.02691727e+01,  1.16502762e+01,  9.42188263e+00,  9.33472443e+00,\n",
       "        9.35419464e+00,  7.72663116e+00,  8.85675812e+00,  9.24658966e+00,\n",
       "        9.53784943e+00,  8.31378937e+00,  9.43408966e+00,  8.93500519e+00,\n",
       "        9.90589142e+00,  9.05628204e+00,  9.18457794e+00,  9.49878693e+00,\n",
       "        1.05631180e+01,  7.95410919e+00,  9.32678986e+00,  7.83081818e+00,\n",
       "        9.18140411e+00,  8.91358185e+00,  9.73853302e+00,  9.31909943e+00,\n",
       "        1.06737137e+01,  9.22333527e+00, -1.55762357e+14,  1.02121658e+01,\n",
       "        9.53589630e+00,  9.39868927e+00,  9.60425568e+00,  9.94916534e+00,\n",
       "        9.50025177e+00,  9.29517365e+00,  9.80957794e+00,  8.78101349e+00,\n",
       "        9.02515411e+00,  1.04007645e+01,  9.09741974e+00,  1.00467606e+01,\n",
       "        8.88257599e+00,  9.36109161e+00,  9.66773224e+00,  9.42554474e+00,\n",
       "        1.07445755e+01,  9.94678497e+00,  9.53003693e+00,  1.10215530e+01,\n",
       "        1.04599686e+01,  8.75348663e+00,  1.01335526e+01,  1.03261795e+01,\n",
       "        9.33374786e+00,  9.10266876e+00,  9.20386505e+00,  1.00706253e+01,\n",
       "        9.65277863e+00,  9.54419708e+00,  9.28955841e+00,  1.03552322e+01,\n",
       "        8.60919952e+00,  7.28345490e+00,  9.81824493e+00,  7.94043732e+00,\n",
       "        9.34351349e+00,  9.14527130e+00,  8.61255646e+00,  1.11373367e+01,\n",
       "        9.17945099e+00,  9.51020050e+00,  9.72730255e+00,  9.43653107e+00,\n",
       "        8.55463409e+00,  8.89429474e+00,  7.28209596e+14,  8.80933380e+00,\n",
       "        9.60913849e+00,  9.47437286e+00,  7.87659454e+00,  8.46479034e+00,\n",
       "       -3.33113521e+13,  9.27954865e+00,  9.27906036e+00,  1.13935623e+01,\n",
       "        9.68579865e+00,  1.14049149e+01,  9.72730255e+00,  8.95923615e+00,\n",
       "        8.66040802e+00,  8.56421661e+00,  9.13550568e+00,  9.93354034e+00,\n",
       "        9.32495880e+00,  8.83521271e+00,  8.91077423e+00,  9.23316193e+00,\n",
       "        7.55402374e+00,  8.42835236e+00,  9.29712677e+00,  7.88623810e+00,\n",
       "        9.26129913e+00,  1.00783768e+01,  1.02863846e+01,  7.00592804e+00,\n",
       "        9.26697540e+00,  1.00007401e+01,  8.55835724e+00,  1.07500076e+01,\n",
       "        8.95703888e+00,  9.35913849e+00,  1.06959305e+01,  9.75855255e+00,\n",
       "        9.67664337e+00,  9.08655548e+00,  8.30768585e+00,  9.05945587e+00,\n",
       "        9.15979767e+00,  9.33954620e+00,  8.74121857e+00,  1.00405350e+01,\n",
       "        7.45191193e+00,  1.07190018e+01,  9.10865021e+00,  8.76209259e+00,\n",
       "        8.61890411e+00,  1.09511795e+01,  9.77027130e+00,  8.84546661e+00,\n",
       "        1.91971540e+14,  9.66999054e+00,  1.16497879e+01,  1.02723465e+01,\n",
       "        8.95093536e+00,  8.76734161e+00,  9.00440216e+00,  8.22852325e+00,\n",
       "        9.30640411e+00,  9.40082550e+00,  8.87970734e+00,  1.01044998e+01,\n",
       "        8.51538849e+00,  9.64063263e+00,  1.09919510e+01,  8.19116974e+00,\n",
       "        9.35022736e+00,  9.23609161e+00,  8.87281036e+00,  9.07398224e+00,\n",
       "        1.04858475e+01,  1.03408279e+01,  9.81885529e+00,  7.62769318e+00,\n",
       "        9.05316925e+00,  9.08216095e+00,  7.62866974e+00,  9.87018585e+00,\n",
       "        8.83472443e+00,  9.20288849e+00,  9.50904083e+00,  8.64398956e+00,\n",
       "        1.00012283e+01,  1.00793533e+01,  9.61292267e+00,  9.70850372e+00,\n",
       "        1.03643875e+01,  9.37574005e+00,  8.69507599e+00,  9.78174591e+00,\n",
       "        8.49292755e+00,  9.36499786e+00,  8.03034210e+00,  1.00769119e+01,\n",
       "        8.76880646e+00,  8.65332794e+00,  9.28229523e+00,  1.09055252e+01,\n",
       "        9.94214630e+00,  9.39478302e+00,  8.91217804e+00,  8.41919708e+00,\n",
       "        1.16500320e+01,  9.00513458e+00,  1.06059647e+01,  9.25550079e+00,\n",
       "        9.42920685e+00,  1.01422806e+01,  1.12341385e+01,  9.06031036e+00,\n",
       "        9.07984161e+00,  9.57489777e+00,  8.97296906e+00,  9.65991974e+00,\n",
       "        9.48163605e+00,  8.97730255e+00,  9.17993927e+00,  9.42578888e+00,\n",
       "        9.62915802e+00,  9.25562286e+00,  9.74512482e+00,  9.39392853e+00,\n",
       "        9.22168732e+00,  8.75800323e+00,  1.08427811e+01,  9.34595490e+00,\n",
       "        9.79419708e+00,  9.54468536e+00,  9.40088654e+00,  1.17486649e+01,\n",
       "        9.74683380e+00,  1.03689041e+01,  1.01364822e+01,  9.89820099e+00,\n",
       "        9.34021759e+00,  7.47461700e+00,  1.01152420e+01,  9.75891876e+00,\n",
       "        8.54767609e+00,  9.33490753e+00,  9.49732208e+00,  1.06558304e+01,\n",
       "        8.85327911e+00,  9.84595490e+00,  1.10404129e+01,  8.27344513e+00,\n",
       "        8.33222198e+00,  9.11170197e+00,  1.05068436e+01,  1.09382401e+01,\n",
       "        1.00473099e+01,  9.66974640e+00,  5.22996087e+14,  1.06140213e+01,\n",
       "        8.95899200e+00,  7.55878448e+00,  9.33899689e+00, -1.04521551e+14,\n",
       "        9.02393341e+00,  9.00366974e+00,  9.89698029e+00,  1.13638992e+01,\n",
       "        8.66071320e+00,  9.31690216e+00,  7.91706085e+00,  9.49921417e+00,\n",
       "        8.40259552e+00,  1.06383743e+01,  8.43195343e+00,  9.30152130e+00,\n",
       "        8.64258575e+00,  9.32202911e+00,  9.03998566e+00,  1.09108963e+01,\n",
       "        1.00951614e+01,  7.64917755e+00,  9.95221710e+00,  1.02714920e+01,\n",
       "        8.87610626e+00,  9.76099396e+00,  9.00550079e+00,  1.01448441e+01,\n",
       "        9.51245880e+00,  8.61109161e+00,  9.32886505e+00,  9.71503448e+00,\n",
       "        1.03112869e+01,  9.18140411e+00,  9.23804474e+00,  7.83747101e+00,\n",
       "        9.20740509e+00,  8.87183380e+00,  1.00335770e+01,  9.93115997e+00,\n",
       "        1.06369095e+01,  8.75464630e+00,  9.83509064e+00,  9.56128693e+00,\n",
       "        1.84426890e+14,  9.20777130e+00,  9.44019318e+00,  8.83081818e+00,\n",
       "        9.88745880e+00,  8.21179962e+00,  9.42945099e+00,  9.95423126e+00,\n",
       "        9.74146271e+00,  9.08277130e+00,  1.10625076e+01,  1.13762283e+01,\n",
       "        1.10339432e+01,  7.92090607e+00,  9.48554230e+00,  8.44031525e+00,\n",
       "        7.48120880e+00,  1.10886307e+01,  9.41870880e+00,  9.71674347e+00,\n",
       "        8.00702667e+00,  8.94214630e+00,  8.95581818e+00,  1.09919510e+01,\n",
       "        1.12201004e+01,  9.80597687e+00,  9.84449005e+00,  9.82209015e+00,\n",
       "        9.31128693e+00,  9.16577911e+00,  9.75891876e+00,  8.32715607e+00,\n",
       "        1.05715408e+01,  8.71363068e+00,  8.99195099e+00,  1.14049149e+01,\n",
       "        9.56403351e+00,  9.15601349e+00,  9.50904083e+00,  1.04687576e+01,\n",
       "        1.06096268e+01,  8.99756622e+00,  9.88678741e+00,  9.00464630e+00,\n",
       "        9.46137238e+00,  9.67926788e+00,  9.45435333e+00,  7.79737091e+00,\n",
       "        1.06688309e+01,  1.03425369e+01,  1.05366898e+01,  1.02470779e+01,\n",
       "        8.42444611e+00,  8.84687042e+00,  1.01262283e+01,  9.88367462e+00,\n",
       "        9.18189240e+00,  1.10114822e+01,  9.02490997e+00,  8.33228302e+00,\n",
       "        9.86896515e+00,  7.75757599e+00,  9.24213409e+00,  8.92261505e+00,\n",
       "        9.40479279e+00,  9.48926544e+00,  1.03447342e+01,  1.08698807e+01,\n",
       "        1.05855179e+01,  8.82501984e+00,  9.51544952e+00,  1.04548416e+01,\n",
       "        9.46338654e+00,  8.13941193e+00,  9.48853302e+00,  9.02710724e+00,\n",
       "        7.80927277e+00,  1.02215652e+01,  9.31336212e+00,  9.16236115e+00,\n",
       "        8.58985138e+00,  8.52808380e+00,  1.07612381e+01,  7.89929962e+00,\n",
       "        9.65613556e+00,  1.06510086e+01,  9.11939240e+00,  9.49073029e+00,\n",
       "        9.26148224e+00,  1.09436111e+01,  9.23639679e+00,  9.14185333e+00,\n",
       "        1.00578690e+01,  7.61408234e+00,  7.65052032e+00,  1.00998611e+01,\n",
       "        9.83222198e+00,  8.91596222e+00,  8.01563263e+00,  9.62213898e+00,\n",
       "        9.63086700e+00,  8.79273224e+00,  9.43628693e+00,  1.04610062e+01,\n",
       "        9.36865997e+00,  9.27320099e+00,  9.83716583e+00,  8.77859497e+00,\n",
       "        9.40772247e+00,  1.01440506e+01,  9.41907501e+00,  9.35913849e+00,\n",
       "        8.39624786e+00,  7.98365021e+00,  9.97559357e+00,  9.02417755e+00,\n",
       "        9.64258575e+00,  1.09956131e+01,  9.66870880e+00,  1.06046829e+01,\n",
       "        8.86304474e+00,  1.00260696e+01,  9.76392365e+00,  1.05064774e+01,\n",
       "       -1.05289554e+14,  9.35620880e+00,  9.95423126e+00,  9.03736115e+00,\n",
       "        8.85962677e+00,  6.86176300e+00,  8.72913361e+00,  9.18665314e+00,\n",
       "        9.46039581e+00,  8.61499786e+00,  8.72504425e+00,  8.85327911e+00,\n",
       "        4.90524211e+14,  8.64136505e+00,  9.27619171e+00,  9.16675568e+00,\n",
       "        8.69641876e+00,  9.62940216e+00,  8.45331573e+00,  1.84426890e+14,\n",
       "        9.77881622e+00,  9.32495880e+00,  9.06031036e+00,  9.42975616e+00,\n",
       "        1.01701736e+01,  8.94043732e+00,  9.39722443e+00,  8.09156036e+00,\n",
       "        1.01175003e+01,  8.67163849e+00,  9.28394318e+00,  9.09345245e+00,\n",
       "        9.23542023e+00,  7.59546661e+00,  1.00539627e+01,  9.75318146e+00,\n",
       "        9.36792755e+00,  1.07409744e+01,  9.67456818e+00,  7.48120880e+00,\n",
       "        9.62525177e+00,  9.34351349e+00,  8.19751740e+00,  7.61084747e+00,\n",
       "        9.12451935e+00,  8.12201691e+00,  9.12866974e+00,  7.98853302e+00,\n",
       "        9.34449005e+00,  1.07407303e+01,  8.86792755e+00,  9.63031769e+00,\n",
       "        9.57593536e+00,  8.17700958e+00,  9.92652130e+00,  9.15528107e+00,\n",
       "       -4.74587770e+14,  1.00051346e+01,  8.02301788e+00,  1.00974197e+01,\n",
       "       -8.50068475e+13,  9.02271271e+00,  9.09253693e+00,  8.69757843e+00,\n",
       "        9.82215118e+00,  1.04292068e+01,  9.87744904e+00,  9.43939972e+00,\n",
       "        1.00634842e+01,  8.95160675e+00,  1.00256424e+01,  1.04277420e+01,\n",
       "        1.00734940e+01,  8.11194611e+00,  8.98120880e+00,  9.95484161e+00,\n",
       "        8.06421661e+00,  9.36499786e+00,  9.69849396e+00,  8.96247101e+00,\n",
       "        9.84253693e+00,  7.97632599e+00,  1.01301346e+01,  9.24390411e+00,\n",
       "        1.03007889e+01,  1.11710281e+01,  8.34400177e+00,  9.97467804e+00,\n",
       "        9.46521759e+00, -1.40248719e+14,  9.83496857e+00,  9.25751495e+00,\n",
       "        8.13959503e+00,  8.86066437e+00,  9.03980255e+00,  8.99738312e+00,\n",
       "        9.20313263e+00,  2.86422221e+14,  9.62177277e+00,  8.39514923e+00,\n",
       "        1.04277420e+01,  1.06485672e+01,  8.89429474e+00,  1.01001663e+01,\n",
       "        9.51184845e+00,  9.85645294e+00,  9.18579865e+00,  9.15601349e+00,\n",
       "        1.09956131e+01,  9.89234161e+00,  8.39160919e+00,  7.92151642e+00,\n",
       "       -4.74182704e+14,  9.51782990e+00,  8.76636505e+00,  8.06537628e+00,\n",
       "        9.87287140e+00,  9.22437286e+00,  8.42847443e+00,  8.94757843e+00,\n",
       "        1.05031815e+01,  7.90845490e+00,  9.39911652e+00,  8.36548615e+00,\n",
       "       -7.88940341e+14,  9.34449005e+00,  9.28815460e+00,  7.96582794e+00,\n",
       "        8.41919708e+00,  9.96167755e+00,  1.13606033e+01,  1.06455765e+01,\n",
       "        9.04657745e+00,  9.73767853e+00,  1.06867752e+01,  7.87042999e+00,\n",
       "        8.67017365e+00,  1.03686600e+01,  6.98316193e+00,  9.53662872e+00,\n",
       "        8.84412384e+00,  9.29212189e+00,  8.61402130e+00,  1.09636307e+01,\n",
       "        9.56134796e+00, -5.34224385e+14,  8.53870392e+00,  1.07461014e+01,\n",
       "        9.55585480e+00,  9.22730255e+00,  9.71802521e+00,  9.47193146e+00,\n",
       "        1.00637283e+01,  8.25855255e+00,  9.45288849e+00,  9.26587677e+00,\n",
       "        8.78882599e+00,  9.38977814e+00,  8.80152130e+00,  9.30792999e+00,\n",
       "        7.79560089e+00,  9.35761261e+00,  1.04343338e+01,  8.85181427e+00,\n",
       "        9.90088654e+00,  8.93335724e+00,  9.06324005e+00,  8.90558624e+00,\n",
       "        8.02198029e+00,  9.53491974e+00,  1.11794510e+01,  7.81769562e+00,\n",
       "        9.47010040e+00,  1.04904861e+01,  8.21179962e+00,  9.73908234e+00,\n",
       "        9.45417023e+00,  8.26136017e+00,  1.00139236e+01,  8.94019318e+00,\n",
       "        9.50220490e+00,  8.24701691e+00,  9.08863068e+00,  9.14673615e+00,\n",
       "        8.00293732e+00,  9.43347931e+00,  1.24149869e+14,  8.84400177e+00,\n",
       "        1.04213333e+01,  9.43213654e+00,  1.05500565e+01,  9.23950958e+00,\n",
       "        8.75489044e+00,  8.96326447e+00,  9.40308380e+00,  9.63898468e+00,\n",
       "        9.71924591e+00,  9.04175568e+00,  1.00217361e+01,  9.38092804e+00,\n",
       "        1.06748123e+01,  1.02812576e+01,  9.94458771e+00,  1.03686600e+01,\n",
       "        8.75562286e+00,  9.65985870e+00,  9.96485138e+00,  8.84394073e+00,\n",
       "        7.76538849e+00,  8.67212677e+00,  9.15503693e+00,  9.12042999e+00,\n",
       "        1.09848709e+01,  8.95417023e+00,  9.08594513e+00,  9.12421417e+00,\n",
       "        9.42163849e+00,  8.09015656e+00,  9.57740021e+00,  9.62866974e+00,\n",
       "        8.03907013e+00,  9.46949005e+00,  8.98023224e+00,  8.93238068e+00,\n",
       "        9.28589630e+00,  9.15271759e+00,  9.50171661e+00,  9.28174591e+00,\n",
       "        9.37622833e+00,  9.26178741e+00,  1.00556717e+01,  1.00733719e+01,\n",
       "        1.09604568e+01,  1.05402298e+01,  9.10425568e+00,  9.59156036e+00,\n",
       "        9.94165802e+00,  9.24878693e+00])"
      ]
     },
     "execution_count": 191,
     "metadata": {},
     "output_type": "execute_result"
    }
   ],
   "source": [
    "y_hat_test"
   ]
  },
  {
   "cell_type": "code",
   "execution_count": 192,
   "metadata": {},
   "outputs": [
    {
     "name": "stderr",
     "output_type": "stream",
     "text": [
      "C:\\Users\\Fayaz\\AppData\\Local\\Temp\\ipykernel_8480\\1662582847.py:1: RuntimeWarning: overflow encountered in exp\n",
      "  df_pf = pd.DataFrame(np.exp(y_hat_test), columns=[\"Predictions\"])\n"
     ]
    },
    {
     "data": {
      "text/html": [
       "<div>\n",
       "<style scoped>\n",
       "    .dataframe tbody tr th:only-of-type {\n",
       "        vertical-align: middle;\n",
       "    }\n",
       "\n",
       "    .dataframe tbody tr th {\n",
       "        vertical-align: top;\n",
       "    }\n",
       "\n",
       "    .dataframe thead th {\n",
       "        text-align: right;\n",
       "    }\n",
       "</style>\n",
       "<table border=\"1\" class=\"dataframe\">\n",
       "  <thead>\n",
       "    <tr style=\"text-align: right;\">\n",
       "      <th></th>\n",
       "      <th>Predictions</th>\n",
       "    </tr>\n",
       "  </thead>\n",
       "  <tbody>\n",
       "    <tr>\n",
       "      <th>0</th>\n",
       "      <td>10167.34</td>\n",
       "    </tr>\n",
       "    <tr>\n",
       "      <th>1</th>\n",
       "      <td>inf</td>\n",
       "    </tr>\n",
       "    <tr>\n",
       "      <th>2</th>\n",
       "      <td>5666.58</td>\n",
       "    </tr>\n",
       "    <tr>\n",
       "      <th>3</th>\n",
       "      <td>7405.52</td>\n",
       "    </tr>\n",
       "    <tr>\n",
       "      <th>4</th>\n",
       "      <td>11178.92</td>\n",
       "    </tr>\n",
       "  </tbody>\n",
       "</table>\n",
       "</div>"
      ],
      "text/plain": [
       "   Predictions\n",
       "0     10167.34\n",
       "1          inf\n",
       "2      5666.58\n",
       "3      7405.52\n",
       "4     11178.92"
      ]
     },
     "execution_count": 192,
     "metadata": {},
     "output_type": "execute_result"
    }
   ],
   "source": [
    "df_pf = pd.DataFrame(np.exp(y_hat_test), columns=[\"Predictions\"])\n",
    "df_pf.head()"
   ]
  },
  {
   "cell_type": "code",
   "execution_count": 193,
   "metadata": {},
   "outputs": [
    {
     "data": {
      "text/plain": [
       "(774,)"
      ]
     },
     "execution_count": 193,
     "metadata": {},
     "output_type": "execute_result"
    }
   ],
   "source": [
    "y_hat_test.shape"
   ]
  },
  {
   "cell_type": "code",
   "execution_count": 194,
   "metadata": {},
   "outputs": [
    {
     "data": {
      "text/html": [
       "<div>\n",
       "<style scoped>\n",
       "    .dataframe tbody tr th:only-of-type {\n",
       "        vertical-align: middle;\n",
       "    }\n",
       "\n",
       "    .dataframe tbody tr th {\n",
       "        vertical-align: top;\n",
       "    }\n",
       "\n",
       "    .dataframe thead th {\n",
       "        text-align: right;\n",
       "    }\n",
       "</style>\n",
       "<table border=\"1\" class=\"dataframe\">\n",
       "  <thead>\n",
       "    <tr style=\"text-align: right;\">\n",
       "      <th></th>\n",
       "      <th>Predictions</th>\n",
       "      <th>Target</th>\n",
       "    </tr>\n",
       "  </thead>\n",
       "  <tbody>\n",
       "    <tr>\n",
       "      <th>0</th>\n",
       "      <td>10167.34</td>\n",
       "      <td>NaN</td>\n",
       "    </tr>\n",
       "    <tr>\n",
       "      <th>1</th>\n",
       "      <td>inf</td>\n",
       "      <td>7900.00</td>\n",
       "    </tr>\n",
       "    <tr>\n",
       "      <th>2</th>\n",
       "      <td>5666.58</td>\n",
       "      <td>NaN</td>\n",
       "    </tr>\n",
       "    <tr>\n",
       "      <th>3</th>\n",
       "      <td>7405.52</td>\n",
       "      <td>NaN</td>\n",
       "    </tr>\n",
       "    <tr>\n",
       "      <th>4</th>\n",
       "      <td>11178.92</td>\n",
       "      <td>NaN</td>\n",
       "    </tr>\n",
       "  </tbody>\n",
       "</table>\n",
       "</div>"
      ],
      "text/plain": [
       "   Predictions  Target\n",
       "0     10167.34     NaN\n",
       "1          inf 7900.00\n",
       "2      5666.58     NaN\n",
       "3      7405.52     NaN\n",
       "4     11178.92     NaN"
      ]
     },
     "execution_count": 194,
     "metadata": {},
     "output_type": "execute_result"
    }
   ],
   "source": [
    "df_pf[\"Target\"] = np.exp(y_test)\n",
    "df_pf.head()"
   ]
  },
  {
   "cell_type": "code",
   "execution_count": 195,
   "metadata": {},
   "outputs": [
    {
     "data": {
      "text/plain": [
       "0   7.74\n",
       "1   7.94\n",
       "2   7.82\n",
       "3   8.76\n",
       "4   9.12\n",
       "Name: log_price, dtype: float64"
      ]
     },
     "execution_count": 195,
     "metadata": {},
     "output_type": "execute_result"
    }
   ],
   "source": [
    "y_test = y_test.reset_index(drop=True)\n",
    "y_test.head()"
   ]
  },
  {
   "cell_type": "code",
   "execution_count": 196,
   "metadata": {},
   "outputs": [
    {
     "data": {
      "text/html": [
       "<div>\n",
       "<style scoped>\n",
       "    .dataframe tbody tr th:only-of-type {\n",
       "        vertical-align: middle;\n",
       "    }\n",
       "\n",
       "    .dataframe tbody tr th {\n",
       "        vertical-align: top;\n",
       "    }\n",
       "\n",
       "    .dataframe thead th {\n",
       "        text-align: right;\n",
       "    }\n",
       "</style>\n",
       "<table border=\"1\" class=\"dataframe\">\n",
       "  <thead>\n",
       "    <tr style=\"text-align: right;\">\n",
       "      <th></th>\n",
       "      <th>Predictions</th>\n",
       "      <th>Target</th>\n",
       "    </tr>\n",
       "  </thead>\n",
       "  <tbody>\n",
       "    <tr>\n",
       "      <th>0</th>\n",
       "      <td>10167.34</td>\n",
       "      <td>2300.00</td>\n",
       "    </tr>\n",
       "    <tr>\n",
       "      <th>1</th>\n",
       "      <td>inf</td>\n",
       "      <td>2800.00</td>\n",
       "    </tr>\n",
       "    <tr>\n",
       "      <th>2</th>\n",
       "      <td>5666.58</td>\n",
       "      <td>2500.00</td>\n",
       "    </tr>\n",
       "    <tr>\n",
       "      <th>3</th>\n",
       "      <td>7405.52</td>\n",
       "      <td>6400.00</td>\n",
       "    </tr>\n",
       "    <tr>\n",
       "      <th>4</th>\n",
       "      <td>11178.92</td>\n",
       "      <td>9150.00</td>\n",
       "    </tr>\n",
       "  </tbody>\n",
       "</table>\n",
       "</div>"
      ],
      "text/plain": [
       "   Predictions  Target\n",
       "0     10167.34 2300.00\n",
       "1          inf 2800.00\n",
       "2      5666.58 2500.00\n",
       "3      7405.52 6400.00\n",
       "4     11178.92 9150.00"
      ]
     },
     "execution_count": 196,
     "metadata": {},
     "output_type": "execute_result"
    }
   ],
   "source": [
    "df_pf[\"Target\"] = np.exp(y_test)\n",
    "df_pf.head()"
   ]
  },
  {
   "cell_type": "code",
   "execution_count": 197,
   "metadata": {},
   "outputs": [],
   "source": [
    "df_pf[\"Residual\"] = df_pf[\"Target\"] - df_pf[\"Predictions\"]"
   ]
  },
  {
   "cell_type": "code",
   "execution_count": 198,
   "metadata": {},
   "outputs": [
    {
     "data": {
      "text/html": [
       "<div>\n",
       "<style scoped>\n",
       "    .dataframe tbody tr th:only-of-type {\n",
       "        vertical-align: middle;\n",
       "    }\n",
       "\n",
       "    .dataframe tbody tr th {\n",
       "        vertical-align: top;\n",
       "    }\n",
       "\n",
       "    .dataframe thead th {\n",
       "        text-align: right;\n",
       "    }\n",
       "</style>\n",
       "<table border=\"1\" class=\"dataframe\">\n",
       "  <thead>\n",
       "    <tr style=\"text-align: right;\">\n",
       "      <th></th>\n",
       "      <th>Predictions</th>\n",
       "      <th>Target</th>\n",
       "      <th>Residual</th>\n",
       "      <th>Difference%</th>\n",
       "    </tr>\n",
       "  </thead>\n",
       "  <tbody>\n",
       "    <tr>\n",
       "      <th>0</th>\n",
       "      <td>10167.34</td>\n",
       "      <td>2300.00</td>\n",
       "      <td>-7867.34</td>\n",
       "      <td>342.06</td>\n",
       "    </tr>\n",
       "    <tr>\n",
       "      <th>1</th>\n",
       "      <td>inf</td>\n",
       "      <td>2800.00</td>\n",
       "      <td>-inf</td>\n",
       "      <td>inf</td>\n",
       "    </tr>\n",
       "    <tr>\n",
       "      <th>2</th>\n",
       "      <td>5666.58</td>\n",
       "      <td>2500.00</td>\n",
       "      <td>-3166.58</td>\n",
       "      <td>126.66</td>\n",
       "    </tr>\n",
       "    <tr>\n",
       "      <th>3</th>\n",
       "      <td>7405.52</td>\n",
       "      <td>6400.00</td>\n",
       "      <td>-1005.52</td>\n",
       "      <td>15.71</td>\n",
       "    </tr>\n",
       "    <tr>\n",
       "      <th>4</th>\n",
       "      <td>11178.92</td>\n",
       "      <td>9150.00</td>\n",
       "      <td>-2028.92</td>\n",
       "      <td>22.17</td>\n",
       "    </tr>\n",
       "    <tr>\n",
       "      <th>...</th>\n",
       "      <td>...</td>\n",
       "      <td>...</td>\n",
       "      <td>...</td>\n",
       "      <td>...</td>\n",
       "    </tr>\n",
       "    <tr>\n",
       "      <th>769</th>\n",
       "      <td>37806.25</td>\n",
       "      <td>29500.00</td>\n",
       "      <td>-8306.25</td>\n",
       "      <td>28.16</td>\n",
       "    </tr>\n",
       "    <tr>\n",
       "      <th>770</th>\n",
       "      <td>8993.48</td>\n",
       "      <td>9600.00</td>\n",
       "      <td>606.52</td>\n",
       "      <td>6.32</td>\n",
       "    </tr>\n",
       "    <tr>\n",
       "      <th>771</th>\n",
       "      <td>14640.70</td>\n",
       "      <td>18300.00</td>\n",
       "      <td>3659.30</td>\n",
       "      <td>20.00</td>\n",
       "    </tr>\n",
       "    <tr>\n",
       "      <th>772</th>\n",
       "      <td>20778.17</td>\n",
       "      <td>68500.00</td>\n",
       "      <td>47721.83</td>\n",
       "      <td>69.67</td>\n",
       "    </tr>\n",
       "    <tr>\n",
       "      <th>773</th>\n",
       "      <td>10391.95</td>\n",
       "      <td>10800.00</td>\n",
       "      <td>408.05</td>\n",
       "      <td>3.78</td>\n",
       "    </tr>\n",
       "  </tbody>\n",
       "</table>\n",
       "<p>774 rows × 4 columns</p>\n",
       "</div>"
      ],
      "text/plain": [
       "     Predictions   Target  Residual  Difference%\n",
       "0       10167.34  2300.00  -7867.34       342.06\n",
       "1            inf  2800.00      -inf          inf\n",
       "2        5666.58  2500.00  -3166.58       126.66\n",
       "3        7405.52  6400.00  -1005.52        15.71\n",
       "4       11178.92  9150.00  -2028.92        22.17\n",
       "..           ...      ...       ...          ...\n",
       "769     37806.25 29500.00  -8306.25        28.16\n",
       "770      8993.48  9600.00    606.52         6.32\n",
       "771     14640.70 18300.00   3659.30        20.00\n",
       "772     20778.17 68500.00  47721.83        69.67\n",
       "773     10391.95 10800.00    408.05         3.78\n",
       "\n",
       "[774 rows x 4 columns]"
      ]
     },
     "execution_count": 198,
     "metadata": {},
     "output_type": "execute_result"
    }
   ],
   "source": [
    "df_pf[\"Difference%\"] = np.absolute(df_pf[\"Residual\"]/df_pf[\"Target\"]*100)\n",
    "df_pf"
   ]
  },
  {
   "cell_type": "code",
   "execution_count": 199,
   "metadata": {},
   "outputs": [
    {
     "data": {
      "text/html": [
       "<div>\n",
       "<style scoped>\n",
       "    .dataframe tbody tr th:only-of-type {\n",
       "        vertical-align: middle;\n",
       "    }\n",
       "\n",
       "    .dataframe tbody tr th {\n",
       "        vertical-align: top;\n",
       "    }\n",
       "\n",
       "    .dataframe thead th {\n",
       "        text-align: right;\n",
       "    }\n",
       "</style>\n",
       "<table border=\"1\" class=\"dataframe\">\n",
       "  <thead>\n",
       "    <tr style=\"text-align: right;\">\n",
       "      <th></th>\n",
       "      <th>Predictions</th>\n",
       "      <th>Target</th>\n",
       "      <th>Residual</th>\n",
       "      <th>Difference%</th>\n",
       "    </tr>\n",
       "  </thead>\n",
       "  <tbody>\n",
       "    <tr>\n",
       "      <th>count</th>\n",
       "      <td>774.00</td>\n",
       "      <td>774.00</td>\n",
       "      <td>774.00</td>\n",
       "      <td>774.00</td>\n",
       "    </tr>\n",
       "    <tr>\n",
       "      <th>mean</th>\n",
       "      <td>inf</td>\n",
       "      <td>18165.82</td>\n",
       "      <td>-inf</td>\n",
       "      <td>inf</td>\n",
       "    </tr>\n",
       "    <tr>\n",
       "      <th>std</th>\n",
       "      <td>NaN</td>\n",
       "      <td>19967.86</td>\n",
       "      <td>NaN</td>\n",
       "      <td>NaN</td>\n",
       "    </tr>\n",
       "    <tr>\n",
       "      <th>min</th>\n",
       "      <td>0.00</td>\n",
       "      <td>1200.00</td>\n",
       "      <td>-inf</td>\n",
       "      <td>0.07</td>\n",
       "    </tr>\n",
       "    <tr>\n",
       "      <th>25%</th>\n",
       "      <td>7148.39</td>\n",
       "      <td>6900.00</td>\n",
       "      <td>-2124.01</td>\n",
       "      <td>8.50</td>\n",
       "    </tr>\n",
       "    <tr>\n",
       "      <th>50%</th>\n",
       "      <td>11472.36</td>\n",
       "      <td>11600.00</td>\n",
       "      <td>81.95</td>\n",
       "      <td>19.60</td>\n",
       "    </tr>\n",
       "    <tr>\n",
       "      <th>75%</th>\n",
       "      <td>20034.39</td>\n",
       "      <td>20500.00</td>\n",
       "      <td>2358.07</td>\n",
       "      <td>35.24</td>\n",
       "    </tr>\n",
       "    <tr>\n",
       "      <th>max</th>\n",
       "      <td>inf</td>\n",
       "      <td>126000.00</td>\n",
       "      <td>76194.83</td>\n",
       "      <td>inf</td>\n",
       "    </tr>\n",
       "  </tbody>\n",
       "</table>\n",
       "</div>"
      ],
      "text/plain": [
       "       Predictions    Target  Residual  Difference%\n",
       "count       774.00    774.00    774.00       774.00\n",
       "mean           inf  18165.82      -inf          inf\n",
       "std            NaN  19967.86       NaN          NaN\n",
       "min           0.00   1200.00      -inf         0.07\n",
       "25%        7148.39   6900.00  -2124.01         8.50\n",
       "50%       11472.36  11600.00     81.95        19.60\n",
       "75%       20034.39  20500.00   2358.07        35.24\n",
       "max            inf 126000.00  76194.83          inf"
      ]
     },
     "execution_count": 199,
     "metadata": {},
     "output_type": "execute_result"
    }
   ],
   "source": [
    "df_pf.describe()"
   ]
  },
  {
   "cell_type": "code",
   "execution_count": 200,
   "metadata": {},
   "outputs": [
    {
     "data": {
      "text/html": [
       "<div>\n",
       "<style scoped>\n",
       "    .dataframe tbody tr th:only-of-type {\n",
       "        vertical-align: middle;\n",
       "    }\n",
       "\n",
       "    .dataframe tbody tr th {\n",
       "        vertical-align: top;\n",
       "    }\n",
       "\n",
       "    .dataframe thead th {\n",
       "        text-align: right;\n",
       "    }\n",
       "</style>\n",
       "<table border=\"1\" class=\"dataframe\">\n",
       "  <thead>\n",
       "    <tr style=\"text-align: right;\">\n",
       "      <th></th>\n",
       "      <th>Predictions</th>\n",
       "      <th>Target</th>\n",
       "      <th>Residual</th>\n",
       "      <th>Difference%</th>\n",
       "    </tr>\n",
       "  </thead>\n",
       "  <tbody>\n",
       "    <tr>\n",
       "      <th>758</th>\n",
       "      <td>7944.48</td>\n",
       "      <td>7950.00</td>\n",
       "      <td>5.52</td>\n",
       "      <td>0.07</td>\n",
       "    </tr>\n",
       "    <tr>\n",
       "      <th>622</th>\n",
       "      <td>4204.88</td>\n",
       "      <td>4200.00</td>\n",
       "      <td>-4.88</td>\n",
       "      <td>0.12</td>\n",
       "    </tr>\n",
       "    <tr>\n",
       "      <th>638</th>\n",
       "      <td>7290.26</td>\n",
       "      <td>7300.00</td>\n",
       "      <td>9.74</td>\n",
       "      <td>0.13</td>\n",
       "    </tr>\n",
       "    <tr>\n",
       "      <th>450</th>\n",
       "      <td>13481.06</td>\n",
       "      <td>13500.00</td>\n",
       "      <td>18.94</td>\n",
       "      <td>0.14</td>\n",
       "    </tr>\n",
       "    <tr>\n",
       "      <th>736</th>\n",
       "      <td>43252.59</td>\n",
       "      <td>43163.25</td>\n",
       "      <td>-89.34</td>\n",
       "      <td>0.21</td>\n",
       "    </tr>\n",
       "    <tr>\n",
       "      <th>...</th>\n",
       "      <td>...</td>\n",
       "      <td>...</td>\n",
       "      <td>...</td>\n",
       "      <td>...</td>\n",
       "    </tr>\n",
       "    <tr>\n",
       "      <th>98</th>\n",
       "      <td>inf</td>\n",
       "      <td>8500.00</td>\n",
       "      <td>-inf</td>\n",
       "      <td>inf</td>\n",
       "    </tr>\n",
       "    <tr>\n",
       "      <th>722</th>\n",
       "      <td>inf</td>\n",
       "      <td>18900.00</td>\n",
       "      <td>-inf</td>\n",
       "      <td>inf</td>\n",
       "    </tr>\n",
       "    <tr>\n",
       "      <th>366</th>\n",
       "      <td>inf</td>\n",
       "      <td>6999.00</td>\n",
       "      <td>-inf</td>\n",
       "      <td>inf</td>\n",
       "    </tr>\n",
       "    <tr>\n",
       "      <th>264</th>\n",
       "      <td>inf</td>\n",
       "      <td>42000.00</td>\n",
       "      <td>-inf</td>\n",
       "      <td>inf</td>\n",
       "    </tr>\n",
       "    <tr>\n",
       "      <th>548</th>\n",
       "      <td>inf</td>\n",
       "      <td>39900.00</td>\n",
       "      <td>-inf</td>\n",
       "      <td>inf</td>\n",
       "    </tr>\n",
       "  </tbody>\n",
       "</table>\n",
       "<p>774 rows × 4 columns</p>\n",
       "</div>"
      ],
      "text/plain": [
       "     Predictions   Target  Residual  Difference%\n",
       "758      7944.48  7950.00      5.52         0.07\n",
       "622      4204.88  4200.00     -4.88         0.12\n",
       "638      7290.26  7300.00      9.74         0.13\n",
       "450     13481.06 13500.00     18.94         0.14\n",
       "736     43252.59 43163.25    -89.34         0.21\n",
       "..           ...      ...       ...          ...\n",
       "98           inf  8500.00      -inf          inf\n",
       "722          inf 18900.00      -inf          inf\n",
       "366          inf  6999.00      -inf          inf\n",
       "264          inf 42000.00      -inf          inf\n",
       "548          inf 39900.00      -inf          inf\n",
       "\n",
       "[774 rows x 4 columns]"
      ]
     },
     "execution_count": 200,
     "metadata": {},
     "output_type": "execute_result"
    }
   ],
   "source": [
    "pd.options.display.max_rows=99\n",
    "pd.set_option(\"display.float_format\", lambda x: \"%.2f\" % x)\n",
    "df_pf.sort_values(by=[\"Difference%\"])"
   ]
  },
  {
   "cell_type": "code",
   "execution_count": null,
   "metadata": {},
   "outputs": [],
   "source": []
  }
 ],
 "metadata": {
  "kernelspec": {
   "display_name": "Python 3 (ipykernel)",
   "language": "python",
   "name": "python3"
  },
  "language_info": {
   "codemirror_mode": {
    "name": "ipython",
    "version": 3
   },
   "file_extension": ".py",
   "mimetype": "text/x-python",
   "name": "python",
   "nbconvert_exporter": "python",
   "pygments_lexer": "ipython3",
   "version": "3.10.4"
  },
  "vscode": {
   "interpreter": {
    "hash": "a70fe3fbb2207255c759408591e3ee0b4a8836d7c67a1c9b7774b0fa22af3437"
   }
  }
 },
 "nbformat": 4,
 "nbformat_minor": 2
}
